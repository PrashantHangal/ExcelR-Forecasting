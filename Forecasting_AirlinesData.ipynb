{
 "cells": [
  {
   "cell_type": "markdown",
   "id": "4fc4f474",
   "metadata": {},
   "source": [
    "Q) Forecast the Airlines Passengers data set.\n",
    "\n",
    "Prepare a document for each model explaining how many dummy variables you have created and MAE value for each model.\n",
    "\n",
    "Finally which model you will use for Forecasting."
   ]
  },
  {
   "cell_type": "code",
   "execution_count": null,
   "id": "87d92726",
   "metadata": {},
   "outputs": [],
   "source": []
  },
  {
   "cell_type": "code",
   "execution_count": 1,
   "id": "8321a106",
   "metadata": {},
   "outputs": [],
   "source": [
    "# importing of Libraries\n",
    "\n",
    "import numpy as np\n",
    "import matplotlib.pyplot as plt\n",
    "import statsmodels.api as sms\n",
    "import pandas as pd\n",
    "\n",
    "%matplotlib inline"
   ]
  },
  {
   "cell_type": "code",
   "execution_count": 18,
   "id": "08440c54",
   "metadata": {},
   "outputs": [
    {
     "data": {
      "text/html": [
       "<div>\n",
       "<style scoped>\n",
       "    .dataframe tbody tr th:only-of-type {\n",
       "        vertical-align: middle;\n",
       "    }\n",
       "\n",
       "    .dataframe tbody tr th {\n",
       "        vertical-align: top;\n",
       "    }\n",
       "\n",
       "    .dataframe thead th {\n",
       "        text-align: right;\n",
       "    }\n",
       "</style>\n",
       "<table border=\"1\" class=\"dataframe\">\n",
       "  <thead>\n",
       "    <tr style=\"text-align: right;\">\n",
       "      <th></th>\n",
       "      <th>Month</th>\n",
       "      <th>Passengers</th>\n",
       "    </tr>\n",
       "  </thead>\n",
       "  <tbody>\n",
       "    <tr>\n",
       "      <th>0</th>\n",
       "      <td>1995-01-01</td>\n",
       "      <td>112</td>\n",
       "    </tr>\n",
       "    <tr>\n",
       "      <th>1</th>\n",
       "      <td>1995-02-01</td>\n",
       "      <td>118</td>\n",
       "    </tr>\n",
       "    <tr>\n",
       "      <th>2</th>\n",
       "      <td>1995-03-01</td>\n",
       "      <td>132</td>\n",
       "    </tr>\n",
       "    <tr>\n",
       "      <th>3</th>\n",
       "      <td>1995-04-01</td>\n",
       "      <td>129</td>\n",
       "    </tr>\n",
       "    <tr>\n",
       "      <th>4</th>\n",
       "      <td>1995-05-01</td>\n",
       "      <td>121</td>\n",
       "    </tr>\n",
       "  </tbody>\n",
       "</table>\n",
       "</div>"
      ],
      "text/plain": [
       "       Month  Passengers\n",
       "0 1995-01-01         112\n",
       "1 1995-02-01         118\n",
       "2 1995-03-01         132\n",
       "3 1995-04-01         129\n",
       "4 1995-05-01         121"
      ]
     },
     "execution_count": 18,
     "metadata": {},
     "output_type": "execute_result"
    }
   ],
   "source": [
    "# Load dataset\n",
    "\n",
    "df_airline=pd.read_excel('Airlines+Data.xlsx')\n",
    "df_airline.head()"
   ]
  },
  {
   "cell_type": "code",
   "execution_count": 19,
   "id": "401790b6",
   "metadata": {},
   "outputs": [
    {
     "data": {
      "text/html": [
       "<div>\n",
       "<style scoped>\n",
       "    .dataframe tbody tr th:only-of-type {\n",
       "        vertical-align: middle;\n",
       "    }\n",
       "\n",
       "    .dataframe tbody tr th {\n",
       "        vertical-align: top;\n",
       "    }\n",
       "\n",
       "    .dataframe thead th {\n",
       "        text-align: right;\n",
       "    }\n",
       "</style>\n",
       "<table border=\"1\" class=\"dataframe\">\n",
       "  <thead>\n",
       "    <tr style=\"text-align: right;\">\n",
       "      <th></th>\n",
       "      <th>Month</th>\n",
       "      <th>Passengers</th>\n",
       "    </tr>\n",
       "  </thead>\n",
       "  <tbody>\n",
       "    <tr>\n",
       "      <th>91</th>\n",
       "      <td>2002-08-01</td>\n",
       "      <td>405</td>\n",
       "    </tr>\n",
       "    <tr>\n",
       "      <th>92</th>\n",
       "      <td>2002-09-01</td>\n",
       "      <td>355</td>\n",
       "    </tr>\n",
       "    <tr>\n",
       "      <th>93</th>\n",
       "      <td>2002-10-01</td>\n",
       "      <td>306</td>\n",
       "    </tr>\n",
       "    <tr>\n",
       "      <th>94</th>\n",
       "      <td>2002-11-01</td>\n",
       "      <td>271</td>\n",
       "    </tr>\n",
       "    <tr>\n",
       "      <th>95</th>\n",
       "      <td>2002-12-01</td>\n",
       "      <td>306</td>\n",
       "    </tr>\n",
       "  </tbody>\n",
       "</table>\n",
       "</div>"
      ],
      "text/plain": [
       "        Month  Passengers\n",
       "91 2002-08-01         405\n",
       "92 2002-09-01         355\n",
       "93 2002-10-01         306\n",
       "94 2002-11-01         271\n",
       "95 2002-12-01         306"
      ]
     },
     "execution_count": 19,
     "metadata": {},
     "output_type": "execute_result"
    }
   ],
   "source": [
    "df_airline.tail()"
   ]
  },
  {
   "cell_type": "code",
   "execution_count": null,
   "id": "99bb66cc",
   "metadata": {},
   "outputs": [],
   "source": [
    "# EDA"
   ]
  },
  {
   "cell_type": "code",
   "execution_count": 20,
   "id": "01891380",
   "metadata": {},
   "outputs": [
    {
     "data": {
      "text/plain": [
       "Month         0\n",
       "Passengers    0\n",
       "dtype: int64"
      ]
     },
     "execution_count": 20,
     "metadata": {},
     "output_type": "execute_result"
    }
   ],
   "source": [
    "df_airline.isnull().sum()"
   ]
  },
  {
   "cell_type": "code",
   "execution_count": 22,
   "id": "fdbe82db",
   "metadata": {},
   "outputs": [
    {
     "data": {
      "text/plain": [
       "(96, 2)"
      ]
     },
     "execution_count": 22,
     "metadata": {},
     "output_type": "execute_result"
    }
   ],
   "source": [
    "df_airline.shape"
   ]
  },
  {
   "cell_type": "code",
   "execution_count": 21,
   "id": "cf564029",
   "metadata": {},
   "outputs": [
    {
     "data": {
      "text/plain": [
       "(0, 2)"
      ]
     },
     "execution_count": 21,
     "metadata": {},
     "output_type": "execute_result"
    }
   ],
   "source": [
    "df_airline[df_airline.duplicated()].shape"
   ]
  },
  {
   "cell_type": "code",
   "execution_count": 24,
   "id": "9b19593e",
   "metadata": {},
   "outputs": [
    {
     "data": {
      "text/html": [
       "<div>\n",
       "<style scoped>\n",
       "    .dataframe tbody tr th:only-of-type {\n",
       "        vertical-align: middle;\n",
       "    }\n",
       "\n",
       "    .dataframe tbody tr th {\n",
       "        vertical-align: top;\n",
       "    }\n",
       "\n",
       "    .dataframe thead th {\n",
       "        text-align: right;\n",
       "    }\n",
       "</style>\n",
       "<table border=\"1\" class=\"dataframe\">\n",
       "  <thead>\n",
       "    <tr style=\"text-align: right;\">\n",
       "      <th></th>\n",
       "      <th>Month</th>\n",
       "      <th>Passengers</th>\n",
       "    </tr>\n",
       "  </thead>\n",
       "  <tbody>\n",
       "  </tbody>\n",
       "</table>\n",
       "</div>"
      ],
      "text/plain": [
       "Empty DataFrame\n",
       "Columns: [Month, Passengers]\n",
       "Index: []"
      ]
     },
     "execution_count": 24,
     "metadata": {},
     "output_type": "execute_result"
    }
   ],
   "source": [
    "df_airline[df_airline.duplicated()]"
   ]
  },
  {
   "cell_type": "code",
   "execution_count": 26,
   "id": "c5daff3e",
   "metadata": {},
   "outputs": [
    {
     "data": {
      "text/html": [
       "<div>\n",
       "<style scoped>\n",
       "    .dataframe tbody tr th:only-of-type {\n",
       "        vertical-align: middle;\n",
       "    }\n",
       "\n",
       "    .dataframe tbody tr th {\n",
       "        vertical-align: top;\n",
       "    }\n",
       "\n",
       "    .dataframe thead th {\n",
       "        text-align: right;\n",
       "    }\n",
       "</style>\n",
       "<table border=\"1\" class=\"dataframe\">\n",
       "  <thead>\n",
       "    <tr style=\"text-align: right;\">\n",
       "      <th></th>\n",
       "      <th>Passengers</th>\n",
       "    </tr>\n",
       "  </thead>\n",
       "  <tbody>\n",
       "    <tr>\n",
       "      <th>count</th>\n",
       "      <td>96.000000</td>\n",
       "    </tr>\n",
       "    <tr>\n",
       "      <th>mean</th>\n",
       "      <td>213.708333</td>\n",
       "    </tr>\n",
       "    <tr>\n",
       "      <th>std</th>\n",
       "      <td>71.918216</td>\n",
       "    </tr>\n",
       "    <tr>\n",
       "      <th>min</th>\n",
       "      <td>104.000000</td>\n",
       "    </tr>\n",
       "    <tr>\n",
       "      <th>25%</th>\n",
       "      <td>156.000000</td>\n",
       "    </tr>\n",
       "    <tr>\n",
       "      <th>50%</th>\n",
       "      <td>200.000000</td>\n",
       "    </tr>\n",
       "    <tr>\n",
       "      <th>75%</th>\n",
       "      <td>264.750000</td>\n",
       "    </tr>\n",
       "    <tr>\n",
       "      <th>max</th>\n",
       "      <td>413.000000</td>\n",
       "    </tr>\n",
       "  </tbody>\n",
       "</table>\n",
       "</div>"
      ],
      "text/plain": [
       "       Passengers\n",
       "count   96.000000\n",
       "mean   213.708333\n",
       "std     71.918216\n",
       "min    104.000000\n",
       "25%    156.000000\n",
       "50%    200.000000\n",
       "75%    264.750000\n",
       "max    413.000000"
      ]
     },
     "execution_count": 26,
     "metadata": {},
     "output_type": "execute_result"
    }
   ],
   "source": [
    "df_airline.describe()"
   ]
  },
  {
   "cell_type": "code",
   "execution_count": 27,
   "id": "4ddf2ed7",
   "metadata": {},
   "outputs": [
    {
     "name": "stdout",
     "output_type": "stream",
     "text": [
      "<class 'pandas.core.frame.DataFrame'>\n",
      "RangeIndex: 96 entries, 0 to 95\n",
      "Data columns (total 2 columns):\n",
      " #   Column      Non-Null Count  Dtype         \n",
      "---  ------      --------------  -----         \n",
      " 0   Month       96 non-null     datetime64[ns]\n",
      " 1   Passengers  96 non-null     int64         \n",
      "dtypes: datetime64[ns](1), int64(1)\n",
      "memory usage: 1.6 KB\n"
     ]
    }
   ],
   "source": [
    "df_airline.info()"
   ]
  },
  {
   "cell_type": "code",
   "execution_count": 28,
   "id": "f8263081",
   "metadata": {},
   "outputs": [],
   "source": [
    "#Get Month column as index of data\n",
    "df_airline.set_index('Month',inplace=True)"
   ]
  },
  {
   "cell_type": "code",
   "execution_count": 29,
   "id": "3f10c680",
   "metadata": {},
   "outputs": [
    {
     "data": {
      "text/html": [
       "<div>\n",
       "<style scoped>\n",
       "    .dataframe tbody tr th:only-of-type {\n",
       "        vertical-align: middle;\n",
       "    }\n",
       "\n",
       "    .dataframe tbody tr th {\n",
       "        vertical-align: top;\n",
       "    }\n",
       "\n",
       "    .dataframe thead th {\n",
       "        text-align: right;\n",
       "    }\n",
       "</style>\n",
       "<table border=\"1\" class=\"dataframe\">\n",
       "  <thead>\n",
       "    <tr style=\"text-align: right;\">\n",
       "      <th></th>\n",
       "      <th>Passengers</th>\n",
       "    </tr>\n",
       "    <tr>\n",
       "      <th>Month</th>\n",
       "      <th></th>\n",
       "    </tr>\n",
       "  </thead>\n",
       "  <tbody>\n",
       "    <tr>\n",
       "      <th>1995-01-01</th>\n",
       "      <td>112</td>\n",
       "    </tr>\n",
       "    <tr>\n",
       "      <th>1995-02-01</th>\n",
       "      <td>118</td>\n",
       "    </tr>\n",
       "    <tr>\n",
       "      <th>1995-03-01</th>\n",
       "      <td>132</td>\n",
       "    </tr>\n",
       "    <tr>\n",
       "      <th>1995-04-01</th>\n",
       "      <td>129</td>\n",
       "    </tr>\n",
       "    <tr>\n",
       "      <th>1995-05-01</th>\n",
       "      <td>121</td>\n",
       "    </tr>\n",
       "  </tbody>\n",
       "</table>\n",
       "</div>"
      ],
      "text/plain": [
       "            Passengers\n",
       "Month                 \n",
       "1995-01-01         112\n",
       "1995-02-01         118\n",
       "1995-03-01         132\n",
       "1995-04-01         129\n",
       "1995-05-01         121"
      ]
     },
     "execution_count": 29,
     "metadata": {},
     "output_type": "execute_result"
    }
   ],
   "source": [
    "df_airline.head()"
   ]
  },
  {
   "cell_type": "code",
   "execution_count": null,
   "id": "ec694c84",
   "metadata": {},
   "outputs": [],
   "source": [
    "# Data Visualisation"
   ]
  },
  {
   "cell_type": "code",
   "execution_count": 30,
   "id": "56fda855",
   "metadata": {},
   "outputs": [
    {
     "data": {
      "text/plain": [
       "<Axes: xlabel='Month'>"
      ]
     },
     "execution_count": 30,
     "metadata": {},
     "output_type": "execute_result"
    },
    {
     "data": {
      "image/png": "[encoded data removed]",
      "text/plain": [
       "<Figure size 640x480 with 1 Axes>"
      ]
     },
     "metadata": {},
     "output_type": "display_data"
    }
   ],
   "source": [
    "df_airline.plot()"
   ]
  },
  {
   "cell_type": "markdown",
   "id": "d3e96a11",
   "metadata": {},
   "source": [
    "Note: There is an upward trending data and there is seasonality in our data."
   ]
  },
  {
   "cell_type": "code",
   "execution_count": 31,
   "id": "5b25347b",
   "metadata": {},
   "outputs": [
    {
     "data": {
      "image/png": "[encoded data removed]",
      "text/plain": [
       "<Figure size 640x480 with 1 Axes>"
      ]
     },
     "metadata": {},
     "output_type": "display_data"
    }
   ],
   "source": [
    "#Histogram\n",
    "df_airline.hist()\n",
    "plt.show()"
   ]
  },
  {
   "cell_type": "code",
   "execution_count": 32,
   "id": "64314981",
   "metadata": {},
   "outputs": [
    {
     "data": {
      "image/png": "[encoded data removed]",
      "text/plain": [
       "<Figure size 640x480 with 1 Axes>"
      ]
     },
     "metadata": {},
     "output_type": "display_data"
    }
   ],
   "source": [
    "#Distplot\n",
    "df_airline.plot(kind='kde')\n",
    "plt.show()"
   ]
  },
  {
   "cell_type": "markdown",
   "id": "471ce330",
   "metadata": {},
   "source": [
    "NOte: We see data is Normally Distributed"
   ]
  },
  {
   "cell_type": "code",
   "execution_count": 33,
   "id": "9ad13c15",
   "metadata": {},
   "outputs": [
    {
     "data": {
      "text/plain": [
       "<Axes: xlabel='y(t)', ylabel='y(t + 1)'>"
      ]
     },
     "execution_count": 33,
     "metadata": {},
     "output_type": "execute_result"
    },
    {
     "data": {
      "image/png": "[encoded data removed]",
      "text/plain": [
       "<Figure size 640x480 with 1 Axes>"
      ]
     },
     "metadata": {},
     "output_type": "display_data"
    }
   ],
   "source": [
    "#Lagplot\n",
    "from pandas.plotting import lag_plot\n",
    "lag_plot(df_airline)"
   ]
  },
  {
   "cell_type": "code",
   "execution_count": 39,
   "id": "9fa5bdb2",
   "metadata": {},
   "outputs": [
    {
     "data": {
      "text/html": [
       "<div>\n",
       "<style scoped>\n",
       "    .dataframe tbody tr th:only-of-type {\n",
       "        vertical-align: middle;\n",
       "    }\n",
       "\n",
       "    .dataframe tbody tr th {\n",
       "        vertical-align: top;\n",
       "    }\n",
       "\n",
       "    .dataframe thead th {\n",
       "        text-align: right;\n",
       "    }\n",
       "</style>\n",
       "<table border=\"1\" class=\"dataframe\">\n",
       "  <thead>\n",
       "    <tr style=\"text-align: right;\">\n",
       "      <th></th>\n",
       "      <th>Month</th>\n",
       "      <th>Passengers</th>\n",
       "    </tr>\n",
       "  </thead>\n",
       "  <tbody>\n",
       "    <tr>\n",
       "      <th>0</th>\n",
       "      <td>1995-01-01</td>\n",
       "      <td>112</td>\n",
       "    </tr>\n",
       "    <tr>\n",
       "      <th>1</th>\n",
       "      <td>1995-02-01</td>\n",
       "      <td>118</td>\n",
       "    </tr>\n",
       "    <tr>\n",
       "      <th>2</th>\n",
       "      <td>1995-03-01</td>\n",
       "      <td>132</td>\n",
       "    </tr>\n",
       "    <tr>\n",
       "      <th>3</th>\n",
       "      <td>1995-04-01</td>\n",
       "      <td>129</td>\n",
       "    </tr>\n",
       "    <tr>\n",
       "      <th>4</th>\n",
       "      <td>1995-05-01</td>\n",
       "      <td>121</td>\n",
       "    </tr>\n",
       "  </tbody>\n",
       "</table>\n",
       "</div>"
      ],
      "text/plain": [
       "       Month  Passengers\n",
       "0 1995-01-01         112\n",
       "1 1995-02-01         118\n",
       "2 1995-03-01         132\n",
       "3 1995-04-01         129\n",
       "4 1995-05-01         121"
      ]
     },
     "execution_count": 39,
     "metadata": {},
     "output_type": "execute_result"
    }
   ],
   "source": [
    "airline=pd.read_excel('Airlines+Data.xlsx')\n",
    "airline.head()"
   ]
  },
  {
   "cell_type": "code",
   "execution_count": 40,
   "id": "e2977cfb",
   "metadata": {},
   "outputs": [
    {
     "data": {
      "text/html": [
       "<div>\n",
       "<style scoped>\n",
       "    .dataframe tbody tr th:only-of-type {\n",
       "        vertical-align: middle;\n",
       "    }\n",
       "\n",
       "    .dataframe tbody tr th {\n",
       "        vertical-align: top;\n",
       "    }\n",
       "\n",
       "    .dataframe thead th {\n",
       "        text-align: right;\n",
       "    }\n",
       "</style>\n",
       "<table border=\"1\" class=\"dataframe\">\n",
       "  <thead>\n",
       "    <tr style=\"text-align: right;\">\n",
       "      <th></th>\n",
       "      <th>Month</th>\n",
       "      <th>Passengers</th>\n",
       "      <th>month</th>\n",
       "      <th>year</th>\n",
       "    </tr>\n",
       "  </thead>\n",
       "  <tbody>\n",
       "    <tr>\n",
       "      <th>0</th>\n",
       "      <td>1995-01-01</td>\n",
       "      <td>112</td>\n",
       "      <td>Jan</td>\n",
       "      <td>1995</td>\n",
       "    </tr>\n",
       "    <tr>\n",
       "      <th>1</th>\n",
       "      <td>1995-02-01</td>\n",
       "      <td>118</td>\n",
       "      <td>Feb</td>\n",
       "      <td>1995</td>\n",
       "    </tr>\n",
       "    <tr>\n",
       "      <th>2</th>\n",
       "      <td>1995-03-01</td>\n",
       "      <td>132</td>\n",
       "      <td>Mar</td>\n",
       "      <td>1995</td>\n",
       "    </tr>\n",
       "    <tr>\n",
       "      <th>3</th>\n",
       "      <td>1995-04-01</td>\n",
       "      <td>129</td>\n",
       "      <td>Apr</td>\n",
       "      <td>1995</td>\n",
       "    </tr>\n",
       "    <tr>\n",
       "      <th>4</th>\n",
       "      <td>1995-05-01</td>\n",
       "      <td>121</td>\n",
       "      <td>May</td>\n",
       "      <td>1995</td>\n",
       "    </tr>\n",
       "  </tbody>\n",
       "</table>\n",
       "</div>"
      ],
      "text/plain": [
       "       Month  Passengers month  year\n",
       "0 1995-01-01         112   Jan  1995\n",
       "1 1995-02-01         118   Feb  1995\n",
       "2 1995-03-01         132   Mar  1995\n",
       "3 1995-04-01         129   Apr  1995\n",
       "4 1995-05-01         121   May  1995"
      ]
     },
     "execution_count": 40,
     "metadata": {},
     "output_type": "execute_result"
    }
   ],
   "source": [
    "#Get month and year columns in our data\n",
    "\n",
    "airline[\"month\"] = airline.Month.dt.strftime(\"%b\") # month extraction\n",
    "airline[\"year\"] = airline.Month.dt.strftime(\"%Y\") # year extraction\n",
    "airline.head()"
   ]
  },
  {
   "cell_type": "code",
   "execution_count": 41,
   "id": "4fc3b086",
   "metadata": {},
   "outputs": [
    {
     "data": {
      "text/plain": [
       "<Axes: xlabel='month', ylabel='year'>"
      ]
     },
     "execution_count": 41,
     "metadata": {},
     "output_type": "execute_result"
    },
    {
     "data": {
      "image/png": "[encoded data removed]",
      "text/plain": [
       "<Figure size 1200x800 with 2 Axes>"
      ]
     },
     "metadata": {},
     "output_type": "display_data"
    }
   ],
   "source": [
    "# HeatMap\n",
    "\n",
    "import seaborn as sns\n",
    "plt.figure(figsize=(12,8))\n",
    "heatmap_y_month = pd.pivot_table(data=airline,values=\"Passengers\",index=\"year\",columns=\"month\",aggfunc=\"mean\",fill_value=0)\n",
    "sns.heatmap(heatmap_y_month,annot=True,fmt=\"g\") #fmt is format of the grid values"
   ]
  },
  {
   "cell_type": "markdown",
   "id": "0ca1effc",
   "metadata": {},
   "source": [
    "Note: 1. Years 2000 and after have higher number of passengers.\n",
    "      2. Months Jul and Aug fairly high passengers and months Nov and Dec have lower passengers tarvelling."
   ]
  },
  {
   "cell_type": "code",
   "execution_count": 42,
   "id": "a1524416",
   "metadata": {},
   "outputs": [
    {
     "data": {
      "text/plain": [
       "<Axes: xlabel='year', ylabel='Passengers'>"
      ]
     },
     "execution_count": 42,
     "metadata": {},
     "output_type": "execute_result"
    },
    {
     "data": {
      "image/png": "[encoded data removed]",
      "text/plain": [
       "<Figure size 800x600 with 2 Axes>"
      ]
     },
     "metadata": {},
     "output_type": "display_data"
    }
   ],
   "source": [
    "# Boxplot\n",
    "\n",
    "plt.figure(figsize=(8,6))\n",
    "plt.subplot(211)\n",
    "sns.boxplot(x=\"month\",y=\"Passengers\",data=airline)\n",
    "plt.subplot(212)\n",
    "sns.boxplot(x=\"year\",y=\"Passengers\",data=airline)"
   ]
  },
  {
   "cell_type": "markdown",
   "id": "a03d66d0",
   "metadata": {},
   "source": [
    "Note: from year box plot we can see there is increase in passengers travelling. And also in Jul and Aug month more passengers are seen to travel by airlines."
   ]
  },
  {
   "cell_type": "code",
   "execution_count": 43,
   "id": "caece3ce",
   "metadata": {},
   "outputs": [
    {
     "data": {
      "text/plain": [
       "<Axes: xlabel='year', ylabel='Passengers'>"
      ]
     },
     "execution_count": 43,
     "metadata": {},
     "output_type": "execute_result"
    },
    {
     "data": {
      "image/png": "[encoded data removed]",
      "text/plain": [
       "<Figure size 1200x300 with 1 Axes>"
      ]
     },
     "metadata": {},
     "output_type": "display_data"
    }
   ],
   "source": [
    "# Lineplot\n",
    "plt.figure(figsize=(12,3))\n",
    "sns.lineplot(x=\"year\",y=\"Passengers\",data=airline)"
   ]
  },
  {
   "cell_type": "code",
   "execution_count": 44,
   "id": "9669e8c4",
   "metadata": {},
   "outputs": [
    {
     "data": {
      "text/plain": [
       "<matplotlib.legend.Legend at 0x1c123d9fcd0>"
      ]
     },
     "execution_count": 44,
     "metadata": {},
     "output_type": "execute_result"
    },
    {
     "data": {
      "image/png": "[encoded data removed]",
      "text/plain": [
       "<Figure size 1200x400 with 1 Axes>"
      ]
     },
     "metadata": {},
     "output_type": "display_data"
    }
   ],
   "source": [
    "# Moving Average\n",
    "\n",
    "#Smoothning of the graph\n",
    "plt.figure(figsize=(12,4))\n",
    "airline.Passengers.plot(label=\"org\")\n",
    "for i in range(2,30,8):\n",
    "    airline[\"Passengers\"].rolling(i).mean().plot(label=str(i))\n",
    "plt.legend(loc='best')"
   ]
  },
  {
   "cell_type": "code",
   "execution_count": 46,
   "id": "9cad9dbb",
   "metadata": {},
   "outputs": [
    {
     "data": {
      "image/png": "[encoded data removed]",
      "text/plain": [
       "<Figure size 640x480 with 4 Axes>"
      ]
     },
     "metadata": {},
     "output_type": "display_data"
    }
   ],
   "source": [
    "from statsmodels.tsa.seasonal import seasonal_decompose\n",
    "\n",
    "decompose_ts_add = seasonal_decompose(airline.Passengers,period=12)\n",
    "decompose_ts_add.plot()\n",
    "plt.show()      #1st is the original plot, 2nd in the trend, 3rd is the seaonality component, 4th is the noise component\n"
   ]
  },
  {
   "cell_type": "code",
   "execution_count": 47,
   "id": "576136b1",
   "metadata": {},
   "outputs": [
    {
     "data": {
      "image/png": "[encoded data removed]",
      "text/plain": [
       "<Figure size 640x480 with 1 Axes>"
      ]
     },
     "metadata": {},
     "output_type": "display_data"
    }
   ],
   "source": [
    "# ACF Plot\n",
    "\n",
    "from statsmodels.graphics.tsaplots import plot_acf,plot_pacf\n",
    "acf = plot_acf(airline[\"Passengers\"])  "
   ]
  },
  {
   "cell_type": "code",
   "execution_count": 48,
   "id": "60fd6a11",
   "metadata": {},
   "outputs": [
    {
     "name": "stderr",
     "output_type": "stream",
     "text": [
      "F:\\D.S Software\\lib\\site-packages\\statsmodels\\graphics\\tsaplots.py:348: FutureWarning: The default method 'yw' can produce PACF values outside of the [-1,1] interval. After 0.13, the default will change tounadjusted Yule-Walker ('ywm'). You can use this method now by setting method='ywm'.\n",
      "  warnings.warn(\n"
     ]
    },
    {
     "data": {
      "image/png": "[encoded data removed]",
      "text/plain": [
       "<Figure size 640x480 with 1 Axes>"
      ]
     },
     "metadata": {},
     "output_type": "display_data"
    }
   ],
   "source": [
    "# PCAF Plot\n",
    "\n",
    "pacf = plot_pacf(airline[\"Passengers\"])  "
   ]
  },
  {
   "cell_type": "code",
   "execution_count": null,
   "id": "a69fafa6",
   "metadata": {},
   "outputs": [],
   "source": [
    "# Forecasting Model Based Methods"
   ]
  },
  {
   "cell_type": "code",
   "execution_count": null,
   "id": "06793e29",
   "metadata": {},
   "outputs": [],
   "source": [
    "# Data Preprocessing"
   ]
  },
  {
   "cell_type": "code",
   "execution_count": 50,
   "id": "21e5c8b4",
   "metadata": {},
   "outputs": [
    {
     "data": {
      "text/plain": [
       "(96, 4)"
      ]
     },
     "execution_count": 50,
     "metadata": {},
     "output_type": "execute_result"
    }
   ],
   "source": [
    "airline.shape"
   ]
  },
  {
   "cell_type": "code",
   "execution_count": 51,
   "id": "9f1c69b8",
   "metadata": {},
   "outputs": [
    {
     "data": {
      "text/html": [
       "<div>\n",
       "<style scoped>\n",
       "    .dataframe tbody tr th:only-of-type {\n",
       "        vertical-align: middle;\n",
       "    }\n",
       "\n",
       "    .dataframe tbody tr th {\n",
       "        vertical-align: top;\n",
       "    }\n",
       "\n",
       "    .dataframe thead th {\n",
       "        text-align: right;\n",
       "    }\n",
       "</style>\n",
       "<table border=\"1\" class=\"dataframe\">\n",
       "  <thead>\n",
       "    <tr style=\"text-align: right;\">\n",
       "      <th></th>\n",
       "      <th>Month</th>\n",
       "      <th>Passengers</th>\n",
       "      <th>month</th>\n",
       "      <th>year</th>\n",
       "    </tr>\n",
       "  </thead>\n",
       "  <tbody>\n",
       "    <tr>\n",
       "      <th>0</th>\n",
       "      <td>1995-01-01</td>\n",
       "      <td>112</td>\n",
       "      <td>Jan</td>\n",
       "      <td>1995</td>\n",
       "    </tr>\n",
       "    <tr>\n",
       "      <th>1</th>\n",
       "      <td>1995-02-01</td>\n",
       "      <td>118</td>\n",
       "      <td>Feb</td>\n",
       "      <td>1995</td>\n",
       "    </tr>\n",
       "    <tr>\n",
       "      <th>2</th>\n",
       "      <td>1995-03-01</td>\n",
       "      <td>132</td>\n",
       "      <td>Mar</td>\n",
       "      <td>1995</td>\n",
       "    </tr>\n",
       "    <tr>\n",
       "      <th>3</th>\n",
       "      <td>1995-04-01</td>\n",
       "      <td>129</td>\n",
       "      <td>Apr</td>\n",
       "      <td>1995</td>\n",
       "    </tr>\n",
       "    <tr>\n",
       "      <th>4</th>\n",
       "      <td>1995-05-01</td>\n",
       "      <td>121</td>\n",
       "      <td>May</td>\n",
       "      <td>1995</td>\n",
       "    </tr>\n",
       "    <tr>\n",
       "      <th>...</th>\n",
       "      <td>...</td>\n",
       "      <td>...</td>\n",
       "      <td>...</td>\n",
       "      <td>...</td>\n",
       "    </tr>\n",
       "    <tr>\n",
       "      <th>91</th>\n",
       "      <td>2002-08-01</td>\n",
       "      <td>405</td>\n",
       "      <td>Aug</td>\n",
       "      <td>2002</td>\n",
       "    </tr>\n",
       "    <tr>\n",
       "      <th>92</th>\n",
       "      <td>2002-09-01</td>\n",
       "      <td>355</td>\n",
       "      <td>Sep</td>\n",
       "      <td>2002</td>\n",
       "    </tr>\n",
       "    <tr>\n",
       "      <th>93</th>\n",
       "      <td>2002-10-01</td>\n",
       "      <td>306</td>\n",
       "      <td>Oct</td>\n",
       "      <td>2002</td>\n",
       "    </tr>\n",
       "    <tr>\n",
       "      <th>94</th>\n",
       "      <td>2002-11-01</td>\n",
       "      <td>271</td>\n",
       "      <td>Nov</td>\n",
       "      <td>2002</td>\n",
       "    </tr>\n",
       "    <tr>\n",
       "      <th>95</th>\n",
       "      <td>2002-12-01</td>\n",
       "      <td>306</td>\n",
       "      <td>Dec</td>\n",
       "      <td>2002</td>\n",
       "    </tr>\n",
       "  </tbody>\n",
       "</table>\n",
       "<p>96 rows × 4 columns</p>\n",
       "</div>"
      ],
      "text/plain": [
       "        Month  Passengers month  year\n",
       "0  1995-01-01         112   Jan  1995\n",
       "1  1995-02-01         118   Feb  1995\n",
       "2  1995-03-01         132   Mar  1995\n",
       "3  1995-04-01         129   Apr  1995\n",
       "4  1995-05-01         121   May  1995\n",
       "..        ...         ...   ...   ...\n",
       "91 2002-08-01         405   Aug  2002\n",
       "92 2002-09-01         355   Sep  2002\n",
       "93 2002-10-01         306   Oct  2002\n",
       "94 2002-11-01         271   Nov  2002\n",
       "95 2002-12-01         306   Dec  2002\n",
       "\n",
       "[96 rows x 4 columns]"
      ]
     },
     "execution_count": 51,
     "metadata": {},
     "output_type": "execute_result"
    }
   ],
   "source": [
    "airline"
   ]
  },
  {
   "cell_type": "code",
   "execution_count": 52,
   "id": "437ea12c",
   "metadata": {},
   "outputs": [
    {
     "name": "stdout",
     "output_type": "stream",
     "text": [
      "<class 'pandas.core.frame.DataFrame'>\n",
      "RangeIndex: 96 entries, 0 to 95\n",
      "Data columns (total 4 columns):\n",
      " #   Column      Non-Null Count  Dtype         \n",
      "---  ------      --------------  -----         \n",
      " 0   Month       96 non-null     datetime64[ns]\n",
      " 1   Passengers  96 non-null     int64         \n",
      " 2   month       96 non-null     object        \n",
      " 3   year        96 non-null     object        \n",
      "dtypes: datetime64[ns](1), int64(1), object(2)\n",
      "memory usage: 3.1+ KB\n"
     ]
    }
   ],
   "source": [
    "airline.info()"
   ]
  },
  {
   "cell_type": "code",
   "execution_count": 53,
   "id": "d9c1b19f",
   "metadata": {},
   "outputs": [],
   "source": [
    "#Convert dtype of year \n",
    "airline['year'] = airline['year'].astype(\"int64\")"
   ]
  },
  {
   "cell_type": "code",
   "execution_count": 54,
   "id": "b7ad1043",
   "metadata": {},
   "outputs": [
    {
     "name": "stdout",
     "output_type": "stream",
     "text": [
      "<class 'pandas.core.frame.DataFrame'>\n",
      "RangeIndex: 96 entries, 0 to 95\n",
      "Data columns (total 4 columns):\n",
      " #   Column      Non-Null Count  Dtype         \n",
      "---  ------      --------------  -----         \n",
      " 0   Month       96 non-null     datetime64[ns]\n",
      " 1   Passengers  96 non-null     int64         \n",
      " 2   month       96 non-null     object        \n",
      " 3   year        96 non-null     int64         \n",
      "dtypes: datetime64[ns](1), int64(2), object(1)\n",
      "memory usage: 3.1+ KB\n"
     ]
    }
   ],
   "source": [
    "airline.info()"
   ]
  },
  {
   "cell_type": "code",
   "execution_count": null,
   "id": "cd008d9d",
   "metadata": {},
   "outputs": [],
   "source": [
    "# Creating Dummy Varaibles"
   ]
  },
  {
   "cell_type": "code",
   "execution_count": 55,
   "id": "bf67a74e",
   "metadata": {},
   "outputs": [
    {
     "data": {
      "text/html": [
       "<div>\n",
       "<style scoped>\n",
       "    .dataframe tbody tr th:only-of-type {\n",
       "        vertical-align: middle;\n",
       "    }\n",
       "\n",
       "    .dataframe tbody tr th {\n",
       "        vertical-align: top;\n",
       "    }\n",
       "\n",
       "    .dataframe thead th {\n",
       "        text-align: right;\n",
       "    }\n",
       "</style>\n",
       "<table border=\"1\" class=\"dataframe\">\n",
       "  <thead>\n",
       "    <tr style=\"text-align: right;\">\n",
       "      <th></th>\n",
       "      <th>Month</th>\n",
       "      <th>Passengers</th>\n",
       "      <th>year</th>\n",
       "      <th>month_Apr</th>\n",
       "      <th>month_Aug</th>\n",
       "      <th>month_Dec</th>\n",
       "      <th>month_Feb</th>\n",
       "      <th>month_Jan</th>\n",
       "      <th>month_Jul</th>\n",
       "      <th>month_Jun</th>\n",
       "      <th>month_Mar</th>\n",
       "      <th>month_May</th>\n",
       "      <th>month_Nov</th>\n",
       "      <th>month_Oct</th>\n",
       "      <th>month_Sep</th>\n",
       "    </tr>\n",
       "  </thead>\n",
       "  <tbody>\n",
       "    <tr>\n",
       "      <th>0</th>\n",
       "      <td>1995-01-01</td>\n",
       "      <td>112</td>\n",
       "      <td>1995</td>\n",
       "      <td>0</td>\n",
       "      <td>0</td>\n",
       "      <td>0</td>\n",
       "      <td>0</td>\n",
       "      <td>1</td>\n",
       "      <td>0</td>\n",
       "      <td>0</td>\n",
       "      <td>0</td>\n",
       "      <td>0</td>\n",
       "      <td>0</td>\n",
       "      <td>0</td>\n",
       "      <td>0</td>\n",
       "    </tr>\n",
       "    <tr>\n",
       "      <th>1</th>\n",
       "      <td>1995-02-01</td>\n",
       "      <td>118</td>\n",
       "      <td>1995</td>\n",
       "      <td>0</td>\n",
       "      <td>0</td>\n",
       "      <td>0</td>\n",
       "      <td>1</td>\n",
       "      <td>0</td>\n",
       "      <td>0</td>\n",
       "      <td>0</td>\n",
       "      <td>0</td>\n",
       "      <td>0</td>\n",
       "      <td>0</td>\n",
       "      <td>0</td>\n",
       "      <td>0</td>\n",
       "    </tr>\n",
       "    <tr>\n",
       "      <th>2</th>\n",
       "      <td>1995-03-01</td>\n",
       "      <td>132</td>\n",
       "      <td>1995</td>\n",
       "      <td>0</td>\n",
       "      <td>0</td>\n",
       "      <td>0</td>\n",
       "      <td>0</td>\n",
       "      <td>0</td>\n",
       "      <td>0</td>\n",
       "      <td>0</td>\n",
       "      <td>1</td>\n",
       "      <td>0</td>\n",
       "      <td>0</td>\n",
       "      <td>0</td>\n",
       "      <td>0</td>\n",
       "    </tr>\n",
       "    <tr>\n",
       "      <th>3</th>\n",
       "      <td>1995-04-01</td>\n",
       "      <td>129</td>\n",
       "      <td>1995</td>\n",
       "      <td>1</td>\n",
       "      <td>0</td>\n",
       "      <td>0</td>\n",
       "      <td>0</td>\n",
       "      <td>0</td>\n",
       "      <td>0</td>\n",
       "      <td>0</td>\n",
       "      <td>0</td>\n",
       "      <td>0</td>\n",
       "      <td>0</td>\n",
       "      <td>0</td>\n",
       "      <td>0</td>\n",
       "    </tr>\n",
       "    <tr>\n",
       "      <th>4</th>\n",
       "      <td>1995-05-01</td>\n",
       "      <td>121</td>\n",
       "      <td>1995</td>\n",
       "      <td>0</td>\n",
       "      <td>0</td>\n",
       "      <td>0</td>\n",
       "      <td>0</td>\n",
       "      <td>0</td>\n",
       "      <td>0</td>\n",
       "      <td>0</td>\n",
       "      <td>0</td>\n",
       "      <td>1</td>\n",
       "      <td>0</td>\n",
       "      <td>0</td>\n",
       "      <td>0</td>\n",
       "    </tr>\n",
       "    <tr>\n",
       "      <th>...</th>\n",
       "      <td>...</td>\n",
       "      <td>...</td>\n",
       "      <td>...</td>\n",
       "      <td>...</td>\n",
       "      <td>...</td>\n",
       "      <td>...</td>\n",
       "      <td>...</td>\n",
       "      <td>...</td>\n",
       "      <td>...</td>\n",
       "      <td>...</td>\n",
       "      <td>...</td>\n",
       "      <td>...</td>\n",
       "      <td>...</td>\n",
       "      <td>...</td>\n",
       "      <td>...</td>\n",
       "    </tr>\n",
       "    <tr>\n",
       "      <th>91</th>\n",
       "      <td>2002-08-01</td>\n",
       "      <td>405</td>\n",
       "      <td>2002</td>\n",
       "      <td>0</td>\n",
       "      <td>1</td>\n",
       "      <td>0</td>\n",
       "      <td>0</td>\n",
       "      <td>0</td>\n",
       "      <td>0</td>\n",
       "      <td>0</td>\n",
       "      <td>0</td>\n",
       "      <td>0</td>\n",
       "      <td>0</td>\n",
       "      <td>0</td>\n",
       "      <td>0</td>\n",
       "    </tr>\n",
       "    <tr>\n",
       "      <th>92</th>\n",
       "      <td>2002-09-01</td>\n",
       "      <td>355</td>\n",
       "      <td>2002</td>\n",
       "      <td>0</td>\n",
       "      <td>0</td>\n",
       "      <td>0</td>\n",
       "      <td>0</td>\n",
       "      <td>0</td>\n",
       "      <td>0</td>\n",
       "      <td>0</td>\n",
       "      <td>0</td>\n",
       "      <td>0</td>\n",
       "      <td>0</td>\n",
       "      <td>0</td>\n",
       "      <td>1</td>\n",
       "    </tr>\n",
       "    <tr>\n",
       "      <th>93</th>\n",
       "      <td>2002-10-01</td>\n",
       "      <td>306</td>\n",
       "      <td>2002</td>\n",
       "      <td>0</td>\n",
       "      <td>0</td>\n",
       "      <td>0</td>\n",
       "      <td>0</td>\n",
       "      <td>0</td>\n",
       "      <td>0</td>\n",
       "      <td>0</td>\n",
       "      <td>0</td>\n",
       "      <td>0</td>\n",
       "      <td>0</td>\n",
       "      <td>1</td>\n",
       "      <td>0</td>\n",
       "    </tr>\n",
       "    <tr>\n",
       "      <th>94</th>\n",
       "      <td>2002-11-01</td>\n",
       "      <td>271</td>\n",
       "      <td>2002</td>\n",
       "      <td>0</td>\n",
       "      <td>0</td>\n",
       "      <td>0</td>\n",
       "      <td>0</td>\n",
       "      <td>0</td>\n",
       "      <td>0</td>\n",
       "      <td>0</td>\n",
       "      <td>0</td>\n",
       "      <td>0</td>\n",
       "      <td>1</td>\n",
       "      <td>0</td>\n",
       "      <td>0</td>\n",
       "    </tr>\n",
       "    <tr>\n",
       "      <th>95</th>\n",
       "      <td>2002-12-01</td>\n",
       "      <td>306</td>\n",
       "      <td>2002</td>\n",
       "      <td>0</td>\n",
       "      <td>0</td>\n",
       "      <td>1</td>\n",
       "      <td>0</td>\n",
       "      <td>0</td>\n",
       "      <td>0</td>\n",
       "      <td>0</td>\n",
       "      <td>0</td>\n",
       "      <td>0</td>\n",
       "      <td>0</td>\n",
       "      <td>0</td>\n",
       "      <td>0</td>\n",
       "    </tr>\n",
       "  </tbody>\n",
       "</table>\n",
       "<p>96 rows × 15 columns</p>\n",
       "</div>"
      ],
      "text/plain": [
       "        Month  Passengers  year  month_Apr  month_Aug  month_Dec  month_Feb  \\\n",
       "0  1995-01-01         112  1995          0          0          0          0   \n",
       "1  1995-02-01         118  1995          0          0          0          1   \n",
       "2  1995-03-01         132  1995          0          0          0          0   \n",
       "3  1995-04-01         129  1995          1          0          0          0   \n",
       "4  1995-05-01         121  1995          0          0          0          0   \n",
       "..        ...         ...   ...        ...        ...        ...        ...   \n",
       "91 2002-08-01         405  2002          0          1          0          0   \n",
       "92 2002-09-01         355  2002          0          0          0          0   \n",
       "93 2002-10-01         306  2002          0          0          0          0   \n",
       "94 2002-11-01         271  2002          0          0          0          0   \n",
       "95 2002-12-01         306  2002          0          0          1          0   \n",
       "\n",
       "    month_Jan  month_Jul  month_Jun  month_Mar  month_May  month_Nov  \\\n",
       "0           1          0          0          0          0          0   \n",
       "1           0          0          0          0          0          0   \n",
       "2           0          0          0          1          0          0   \n",
       "3           0          0          0          0          0          0   \n",
       "4           0          0          0          0          1          0   \n",
       "..        ...        ...        ...        ...        ...        ...   \n",
       "91          0          0          0          0          0          0   \n",
       "92          0          0          0          0          0          0   \n",
       "93          0          0          0          0          0          0   \n",
       "94          0          0          0          0          0          1   \n",
       "95          0          0          0          0          0          0   \n",
       "\n",
       "    month_Oct  month_Sep  \n",
       "0           0          0  \n",
       "1           0          0  \n",
       "2           0          0  \n",
       "3           0          0  \n",
       "4           0          0  \n",
       "..        ...        ...  \n",
       "91          0          0  \n",
       "92          0          1  \n",
       "93          1          0  \n",
       "94          0          0  \n",
       "95          0          0  \n",
       "\n",
       "[96 rows x 15 columns]"
      ]
     },
     "execution_count": 55,
     "metadata": {},
     "output_type": "execute_result"
    }
   ],
   "source": [
    "#OHE for month column (OHT- One Hot Encoding)\n",
    "\n",
    "airline1 = pd.get_dummies(airline)\n",
    "airline1"
   ]
  },
  {
   "cell_type": "code",
   "execution_count": 56,
   "id": "2b85c532",
   "metadata": {},
   "outputs": [],
   "source": [
    "x=np.arange(1,97)"
   ]
  },
  {
   "cell_type": "code",
   "execution_count": 57,
   "id": "47eeb69f",
   "metadata": {},
   "outputs": [
    {
     "data": {
      "text/plain": [
       "0      1\n",
       "1      2\n",
       "2      3\n",
       "3      4\n",
       "4      5\n",
       "      ..\n",
       "91    92\n",
       "92    93\n",
       "93    94\n",
       "94    95\n",
       "95    96\n",
       "Length: 96, dtype: int32"
      ]
     },
     "execution_count": 57,
     "metadata": {},
     "output_type": "execute_result"
    }
   ],
   "source": [
    "#timesteps\n",
    "t=pd.Series(data=x)\n",
    "t"
   ]
  },
  {
   "cell_type": "code",
   "execution_count": 58,
   "id": "0fd384d8",
   "metadata": {},
   "outputs": [
    {
     "data": {
      "text/plain": [
       "0        1\n",
       "1        4\n",
       "2        9\n",
       "3       16\n",
       "4       25\n",
       "      ... \n",
       "91    8464\n",
       "92    8649\n",
       "93    8836\n",
       "94    9025\n",
       "95    9216\n",
       "Length: 96, dtype: int32"
      ]
     },
     "execution_count": 58,
     "metadata": {},
     "output_type": "execute_result"
    }
   ],
   "source": [
    "#timesteps square values\n",
    "t_sqr=pd.Series(data=(x*x))\n",
    "t_sqr"
   ]
  },
  {
   "cell_type": "code",
   "execution_count": 59,
   "id": "c9d34778",
   "metadata": {},
   "outputs": [],
   "source": [
    "#log of number of passengers\n",
    "airline1['log_passengers'] = np.log(airline1['Passengers'])"
   ]
  },
  {
   "cell_type": "code",
   "execution_count": 60,
   "id": "4100ba21",
   "metadata": {},
   "outputs": [],
   "source": [
    "airline1['t'] = t"
   ]
  },
  {
   "cell_type": "code",
   "execution_count": 61,
   "id": "d0568562",
   "metadata": {},
   "outputs": [],
   "source": [
    "airline1['t_sqr'] = t_sqr"
   ]
  },
  {
   "cell_type": "code",
   "execution_count": 62,
   "id": "ed2a932d",
   "metadata": {},
   "outputs": [
    {
     "data": {
      "text/html": [
       "<div>\n",
       "<style scoped>\n",
       "    .dataframe tbody tr th:only-of-type {\n",
       "        vertical-align: middle;\n",
       "    }\n",
       "\n",
       "    .dataframe tbody tr th {\n",
       "        vertical-align: top;\n",
       "    }\n",
       "\n",
       "    .dataframe thead th {\n",
       "        text-align: right;\n",
       "    }\n",
       "</style>\n",
       "<table border=\"1\" class=\"dataframe\">\n",
       "  <thead>\n",
       "    <tr style=\"text-align: right;\">\n",
       "      <th></th>\n",
       "      <th>Month</th>\n",
       "      <th>Passengers</th>\n",
       "      <th>year</th>\n",
       "      <th>month_Apr</th>\n",
       "      <th>month_Aug</th>\n",
       "      <th>month_Dec</th>\n",
       "      <th>month_Feb</th>\n",
       "      <th>month_Jan</th>\n",
       "      <th>month_Jul</th>\n",
       "      <th>month_Jun</th>\n",
       "      <th>month_Mar</th>\n",
       "      <th>month_May</th>\n",
       "      <th>month_Nov</th>\n",
       "      <th>month_Oct</th>\n",
       "      <th>month_Sep</th>\n",
       "      <th>log_passengers</th>\n",
       "      <th>t</th>\n",
       "      <th>t_sqr</th>\n",
       "    </tr>\n",
       "  </thead>\n",
       "  <tbody>\n",
       "    <tr>\n",
       "      <th>0</th>\n",
       "      <td>1995-01-01</td>\n",
       "      <td>112</td>\n",
       "      <td>1995</td>\n",
       "      <td>0</td>\n",
       "      <td>0</td>\n",
       "      <td>0</td>\n",
       "      <td>0</td>\n",
       "      <td>1</td>\n",
       "      <td>0</td>\n",
       "      <td>0</td>\n",
       "      <td>0</td>\n",
       "      <td>0</td>\n",
       "      <td>0</td>\n",
       "      <td>0</td>\n",
       "      <td>0</td>\n",
       "      <td>4.718499</td>\n",
       "      <td>1</td>\n",
       "      <td>1</td>\n",
       "    </tr>\n",
       "    <tr>\n",
       "      <th>1</th>\n",
       "      <td>1995-02-01</td>\n",
       "      <td>118</td>\n",
       "      <td>1995</td>\n",
       "      <td>0</td>\n",
       "      <td>0</td>\n",
       "      <td>0</td>\n",
       "      <td>1</td>\n",
       "      <td>0</td>\n",
       "      <td>0</td>\n",
       "      <td>0</td>\n",
       "      <td>0</td>\n",
       "      <td>0</td>\n",
       "      <td>0</td>\n",
       "      <td>0</td>\n",
       "      <td>0</td>\n",
       "      <td>4.770685</td>\n",
       "      <td>2</td>\n",
       "      <td>4</td>\n",
       "    </tr>\n",
       "    <tr>\n",
       "      <th>2</th>\n",
       "      <td>1995-03-01</td>\n",
       "      <td>132</td>\n",
       "      <td>1995</td>\n",
       "      <td>0</td>\n",
       "      <td>0</td>\n",
       "      <td>0</td>\n",
       "      <td>0</td>\n",
       "      <td>0</td>\n",
       "      <td>0</td>\n",
       "      <td>0</td>\n",
       "      <td>1</td>\n",
       "      <td>0</td>\n",
       "      <td>0</td>\n",
       "      <td>0</td>\n",
       "      <td>0</td>\n",
       "      <td>4.882802</td>\n",
       "      <td>3</td>\n",
       "      <td>9</td>\n",
       "    </tr>\n",
       "    <tr>\n",
       "      <th>3</th>\n",
       "      <td>1995-04-01</td>\n",
       "      <td>129</td>\n",
       "      <td>1995</td>\n",
       "      <td>1</td>\n",
       "      <td>0</td>\n",
       "      <td>0</td>\n",
       "      <td>0</td>\n",
       "      <td>0</td>\n",
       "      <td>0</td>\n",
       "      <td>0</td>\n",
       "      <td>0</td>\n",
       "      <td>0</td>\n",
       "      <td>0</td>\n",
       "      <td>0</td>\n",
       "      <td>0</td>\n",
       "      <td>4.859812</td>\n",
       "      <td>4</td>\n",
       "      <td>16</td>\n",
       "    </tr>\n",
       "    <tr>\n",
       "      <th>4</th>\n",
       "      <td>1995-05-01</td>\n",
       "      <td>121</td>\n",
       "      <td>1995</td>\n",
       "      <td>0</td>\n",
       "      <td>0</td>\n",
       "      <td>0</td>\n",
       "      <td>0</td>\n",
       "      <td>0</td>\n",
       "      <td>0</td>\n",
       "      <td>0</td>\n",
       "      <td>0</td>\n",
       "      <td>1</td>\n",
       "      <td>0</td>\n",
       "      <td>0</td>\n",
       "      <td>0</td>\n",
       "      <td>4.795791</td>\n",
       "      <td>5</td>\n",
       "      <td>25</td>\n",
       "    </tr>\n",
       "  </tbody>\n",
       "</table>\n",
       "</div>"
      ],
      "text/plain": [
       "       Month  Passengers  year  month_Apr  month_Aug  month_Dec  month_Feb  \\\n",
       "0 1995-01-01         112  1995          0          0          0          0   \n",
       "1 1995-02-01         118  1995          0          0          0          1   \n",
       "2 1995-03-01         132  1995          0          0          0          0   \n",
       "3 1995-04-01         129  1995          1          0          0          0   \n",
       "4 1995-05-01         121  1995          0          0          0          0   \n",
       "\n",
       "   month_Jan  month_Jul  month_Jun  month_Mar  month_May  month_Nov  \\\n",
       "0          1          0          0          0          0          0   \n",
       "1          0          0          0          0          0          0   \n",
       "2          0          0          0          1          0          0   \n",
       "3          0          0          0          0          0          0   \n",
       "4          0          0          0          0          1          0   \n",
       "\n",
       "   month_Oct  month_Sep  log_passengers  t  t_sqr  \n",
       "0          0          0        4.718499  1      1  \n",
       "1          0          0        4.770685  2      4  \n",
       "2          0          0        4.882802  3      9  \n",
       "3          0          0        4.859812  4     16  \n",
       "4          0          0        4.795791  5     25  "
      ]
     },
     "execution_count": 62,
     "metadata": {},
     "output_type": "execute_result"
    }
   ],
   "source": [
    "airline1.head()"
   ]
  },
  {
   "cell_type": "code",
   "execution_count": null,
   "id": "13f386a6",
   "metadata": {},
   "outputs": [],
   "source": [
    "# Split Train and Test data"
   ]
  },
  {
   "cell_type": "code",
   "execution_count": 63,
   "id": "9fc5f870",
   "metadata": {},
   "outputs": [],
   "source": [
    "Train = airline1.head(84)\n",
    "Test = airline1.tail(12)"
   ]
  },
  {
   "cell_type": "code",
   "execution_count": null,
   "id": "dd20c11f",
   "metadata": {},
   "outputs": [],
   "source": [
    "# Model Building"
   ]
  },
  {
   "cell_type": "code",
   "execution_count": 64,
   "id": "762fea5f",
   "metadata": {},
   "outputs": [],
   "source": [
    "def MAE(pred,org):\n",
    "    temp = np.abs((pred-org)/org)\n",
    "    return np.mean(temp)"
   ]
  },
  {
   "cell_type": "code",
   "execution_count": 65,
   "id": "753d959b",
   "metadata": {},
   "outputs": [
    {
     "data": {
      "text/plain": [
       "0.12875898544471479"
      ]
     },
     "execution_count": 65,
     "metadata": {},
     "output_type": "execute_result"
    }
   ],
   "source": [
    "#Linear Model\n",
    "\n",
    "import statsmodels.formula.api as smf \n",
    "\n",
    "linear_model = smf.ols('Passengers~t',data=Train).fit()                               #Fit the train model\n",
    "pred_linear =  pd.Series(linear_model.predict(pd.DataFrame(Test['t'])))               #predict on test data   \n",
    "mae_linear = MAE(Test['Passengers'],pred_linear)                                      #calculate root mean sqr error \n",
    "mae_linear"
   ]
  },
  {
   "cell_type": "code",
   "execution_count": 66,
   "id": "63ca7d4e",
   "metadata": {},
   "outputs": [
    {
     "data": {
      "text/plain": [
       "0.11102459391985826"
      ]
     },
     "execution_count": 66,
     "metadata": {},
     "output_type": "execute_result"
    }
   ],
   "source": [
    "#Exponential\n",
    "\n",
    "Exp = smf.ols('log_passengers~t',data=Train).fit()\n",
    "pred_Exp = pd.Series(Exp.predict(pd.DataFrame(Test['t'])))\n",
    "mae_Exp = MAE(Test['Passengers'], np.exp(pred_Exp))\n",
    "mae_Exp"
   ]
  },
  {
   "cell_type": "code",
   "execution_count": 67,
   "id": "90ef51ec",
   "metadata": {},
   "outputs": [
    {
     "data": {
      "text/plain": [
       "0.11838168080315846"
      ]
     },
     "execution_count": 67,
     "metadata": {},
     "output_type": "execute_result"
    }
   ],
   "source": [
    "#Quadratic \n",
    "\n",
    "Quad = smf.ols('Passengers~t+t_sqr',data=Train).fit()\n",
    "pred_Quad = pd.Series(Quad.predict(Test[[\"t\",\"t_sqr\"]]))\n",
    "mae_Quad = MAE(Test['Passengers'],pred_Quad)\n",
    "mae_Quad"
   ]
  },
  {
   "cell_type": "code",
   "execution_count": 68,
   "id": "f93ad93e",
   "metadata": {},
   "outputs": [
    {
     "data": {
      "text/plain": [
       "0.6601957591766386"
      ]
     },
     "execution_count": 68,
     "metadata": {},
     "output_type": "execute_result"
    }
   ],
   "source": [
    "#Additive seasonality \n",
    "\n",
    "add_sea = smf.ols('Passengers~month_Jan+month_Feb+month_Mar+month_Apr+month_May+month_Jun+month_Jul+month_Aug+month_Sep+month_Oct+month_Nov',data=Train).fit()\n",
    "pred_add_sea = pd.Series(add_sea.predict(Test[['month_Jan','month_Feb','month_Mar','month_Apr','month_May','month_Jun','month_Jul','month_Aug','month_Sep','month_Oct','month_Nov']]))\n",
    "mae_add_sea = MAE(Test['Passengers'],pred_add_sea)\n",
    "mae_add_sea"
   ]
  },
  {
   "cell_type": "code",
   "execution_count": 69,
   "id": "5fa1d31f",
   "metadata": {},
   "outputs": [
    {
     "data": {
      "text/plain": [
       "0.055710861779884456"
      ]
     },
     "execution_count": 69,
     "metadata": {},
     "output_type": "execute_result"
    }
   ],
   "source": [
    "#Additive Seasonality Quadratic \n",
    "\n",
    "add_sea_Quad = smf.ols('Passengers~t+t_sqr+month_Jan+month_Feb+month_Mar+month_Apr+month_May+month_Jun+month_Jul+month_Aug+month_Sep+month_Oct+month_Nov',data=Train).fit()\n",
    "pred_add_sea_quad = pd.Series(add_sea_Quad.predict(Test[['month_Jan','month_Feb','month_Mar','month_Apr','month_May','month_Jun','month_Jul','month_Aug','month_Sep','month_Oct','month_Nov','t','t_sqr']]))\n",
    "mae_add_sea_quad = MAE(Test['Passengers'], pred_add_sea_quad)\n",
    "mae_add_sea_quad"
   ]
  },
  {
   "cell_type": "code",
   "execution_count": 70,
   "id": "6ed99e53",
   "metadata": {},
   "outputs": [
    {
     "data": {
      "text/plain": [
       "0.7218240575033885"
      ]
     },
     "execution_count": 70,
     "metadata": {},
     "output_type": "execute_result"
    }
   ],
   "source": [
    "##Multiplicative Seasonality\n",
    "\n",
    "Mul_sea = smf.ols('log_passengers~month_Jan+month_Feb+month_Mar+month_Apr+month_May+month_Jun+month_Jul+month_Aug+month_Sep+month_Oct+month_Nov',data = Train).fit()\n",
    "pred_Mult_sea = pd.Series(Mul_sea.predict(Test))\n",
    "mae_Mult_sea = MAE(Test['Passengers'], np.exp(pred_Mult_sea))\n",
    "mae_Mult_sea"
   ]
  },
  {
   "cell_type": "code",
   "execution_count": 71,
   "id": "5ad4125a",
   "metadata": {},
   "outputs": [
    {
     "data": {
      "text/plain": [
       "0.024187475026050762"
      ]
     },
     "execution_count": 71,
     "metadata": {},
     "output_type": "execute_result"
    }
   ],
   "source": [
    "#Multiplicative Additive Seasonality \n",
    "\n",
    "Mul_Add_sea = smf.ols('log_passengers~t+month_Jan+month_Feb+month_Mar+month_Apr+month_May+month_Jun+month_Jul+month_Aug+month_Sep+month_Oct+month_Nov',data = Train).fit()\n",
    "pred_Mult_add_sea = pd.Series(Mul_Add_sea.predict(Test))\n",
    "mae_Mult_add_sea = MAE(Test['Passengers'], np.exp(pred_Mult_add_sea))\n",
    "mae_Mult_add_sea "
   ]
  },
  {
   "cell_type": "code",
   "execution_count": null,
   "id": "d817b52e",
   "metadata": {},
   "outputs": [],
   "source": [
    "# Forecasing by Data driven Model"
   ]
  },
  {
   "cell_type": "code",
   "execution_count": 72,
   "id": "9a97aa10",
   "metadata": {},
   "outputs": [],
   "source": [
    "from statsmodels.tsa.seasonal import seasonal_decompose\n",
    "from statsmodels.tsa.holtwinters import SimpleExpSmoothing # SES\n",
    "from statsmodels.tsa.holtwinters import Holt # Holts Exponential Smoothing\n",
    "from statsmodels.tsa.holtwinters import ExponentialSmoothing"
   ]
  },
  {
   "cell_type": "code",
   "execution_count": 73,
   "id": "f79168df",
   "metadata": {},
   "outputs": [
    {
     "data": {
      "text/html": [
       "<div>\n",
       "<style scoped>\n",
       "    .dataframe tbody tr th:only-of-type {\n",
       "        vertical-align: middle;\n",
       "    }\n",
       "\n",
       "    .dataframe tbody tr th {\n",
       "        vertical-align: top;\n",
       "    }\n",
       "\n",
       "    .dataframe thead th {\n",
       "        text-align: right;\n",
       "    }\n",
       "</style>\n",
       "<table border=\"1\" class=\"dataframe\">\n",
       "  <thead>\n",
       "    <tr style=\"text-align: right;\">\n",
       "      <th></th>\n",
       "      <th>Month</th>\n",
       "      <th>Passengers</th>\n",
       "      <th>month</th>\n",
       "      <th>year</th>\n",
       "    </tr>\n",
       "  </thead>\n",
       "  <tbody>\n",
       "    <tr>\n",
       "      <th>0</th>\n",
       "      <td>1995-01-01</td>\n",
       "      <td>112</td>\n",
       "      <td>Jan</td>\n",
       "      <td>1995</td>\n",
       "    </tr>\n",
       "    <tr>\n",
       "      <th>1</th>\n",
       "      <td>1995-02-01</td>\n",
       "      <td>118</td>\n",
       "      <td>Feb</td>\n",
       "      <td>1995</td>\n",
       "    </tr>\n",
       "    <tr>\n",
       "      <th>2</th>\n",
       "      <td>1995-03-01</td>\n",
       "      <td>132</td>\n",
       "      <td>Mar</td>\n",
       "      <td>1995</td>\n",
       "    </tr>\n",
       "    <tr>\n",
       "      <th>3</th>\n",
       "      <td>1995-04-01</td>\n",
       "      <td>129</td>\n",
       "      <td>Apr</td>\n",
       "      <td>1995</td>\n",
       "    </tr>\n",
       "    <tr>\n",
       "      <th>4</th>\n",
       "      <td>1995-05-01</td>\n",
       "      <td>121</td>\n",
       "      <td>May</td>\n",
       "      <td>1995</td>\n",
       "    </tr>\n",
       "  </tbody>\n",
       "</table>\n",
       "</div>"
      ],
      "text/plain": [
       "       Month  Passengers month  year\n",
       "0 1995-01-01         112   Jan  1995\n",
       "1 1995-02-01         118   Feb  1995\n",
       "2 1995-03-01         132   Mar  1995\n",
       "3 1995-04-01         129   Apr  1995\n",
       "4 1995-05-01         121   May  1995"
      ]
     },
     "execution_count": 73,
     "metadata": {},
     "output_type": "execute_result"
    }
   ],
   "source": [
    "airline.head()"
   ]
  },
  {
   "cell_type": "code",
   "execution_count": 74,
   "id": "2760dc57",
   "metadata": {},
   "outputs": [],
   "source": [
    "Train = airline.head(84)\n",
    "Test = airline.tail(12)"
   ]
  },
  {
   "cell_type": "code",
   "execution_count": 75,
   "id": "18d16340",
   "metadata": {},
   "outputs": [
    {
     "data": {
      "text/plain": [
       "0.1341127474051382"
      ]
     },
     "execution_count": 75,
     "metadata": {},
     "output_type": "execute_result"
    }
   ],
   "source": [
    "# Simple Exponential Method\n",
    "\n",
    "ses_model = SimpleExpSmoothing(Train[\"Passengers\"]).fit(smoothing_level=0.2)\n",
    "pred_ses = ses_model.predict(start = Test.index[0],end = Test.index[-1])\n",
    "MAE_ses = MAE(pred_ses,Test.Passengers) \n",
    "MAE_ses"
   ]
  },
  {
   "cell_type": "code",
   "execution_count": 77,
   "id": "579e77e4",
   "metadata": {},
   "outputs": [
    {
     "data": {
      "text/plain": [
       "0.23530719652100496"
      ]
     },
     "execution_count": 77,
     "metadata": {},
     "output_type": "execute_result"
    }
   ],
   "source": [
    "# Holt method \n",
    "\n",
    "hw_model = Holt(Train[\"Passengers\"]).fit(smoothing_level=0.8, smoothing_trend=0.2)\n",
    "pred_hw = hw_model.predict(start = Test.index[0],end = Test.index[-1])\n",
    "MAE_hw = MAE(pred_hw,Test.Passengers) \n",
    "MAE_hw"
   ]
  },
  {
   "cell_type": "code",
   "execution_count": 78,
   "id": "e5c2a400",
   "metadata": {},
   "outputs": [
    {
     "data": {
      "text/plain": [
       "0.05734104506475249"
      ]
     },
     "execution_count": 78,
     "metadata": {},
     "output_type": "execute_result"
    }
   ],
   "source": [
    "# Holts winter exponential smoothing with additive seasonality and additive trend\n",
    "\n",
    "hwe_model_add_add = ExponentialSmoothing(Train[\"Passengers\"],seasonal=\"add\",trend=\"add\",seasonal_periods=12).fit() #add the trend to the model\n",
    "pred_hwe_add_add = hwe_model_add_add.predict(start = Test.index[0],end = Test.index[-1])\n",
    "MAE__hwe_add_add = MAE(pred_hwe_add_add,Test.Passengers) \n",
    "MAE__hwe_add_add"
   ]
  },
  {
   "cell_type": "code",
   "execution_count": 79,
   "id": "8b070367",
   "metadata": {},
   "outputs": [
    {
     "data": {
      "text/plain": [
       "0.02821125030008882"
      ]
     },
     "execution_count": 79,
     "metadata": {},
     "output_type": "execute_result"
    }
   ],
   "source": [
    "# Holts winter exponential smoothing with multiplicative seasonality and additive trend\n",
    "\n",
    "hwe_model_mul_add = ExponentialSmoothing(Train[\"Passengers\"],seasonal=\"mul\",trend=\"add\",seasonal_periods=12).fit() \n",
    "pred_hwe_mul_add = hwe_model_mul_add.predict(start = Test.index[0],end = Test.index[-1])\n",
    "MAE__hwe_mul_add = MAE(pred_hwe_mul_add,Test.Passengers)\n",
    "MAE__hwe_mul_add"
   ]
  },
  {
   "cell_type": "code",
   "execution_count": null,
   "id": "b51acd9c",
   "metadata": {},
   "outputs": [],
   "source": [
    "# Forecasting by ARIMA Model"
   ]
  },
  {
   "cell_type": "code",
   "execution_count": 80,
   "id": "5ea15f34",
   "metadata": {},
   "outputs": [],
   "source": [
    "from numpy import sqrt\n",
    "import warnings\n",
    "import itertools\n",
    "import statsmodels.api as sm"
   ]
  },
  {
   "cell_type": "code",
   "execution_count": 81,
   "id": "fa461f6d",
   "metadata": {},
   "outputs": [
    {
     "data": {
      "text/html": [
       "<div>\n",
       "<style scoped>\n",
       "    .dataframe tbody tr th:only-of-type {\n",
       "        vertical-align: middle;\n",
       "    }\n",
       "\n",
       "    .dataframe tbody tr th {\n",
       "        vertical-align: top;\n",
       "    }\n",
       "\n",
       "    .dataframe thead th {\n",
       "        text-align: right;\n",
       "    }\n",
       "</style>\n",
       "<table border=\"1\" class=\"dataframe\">\n",
       "  <thead>\n",
       "    <tr style=\"text-align: right;\">\n",
       "      <th></th>\n",
       "      <th>Passengers</th>\n",
       "    </tr>\n",
       "    <tr>\n",
       "      <th>Month</th>\n",
       "      <th></th>\n",
       "    </tr>\n",
       "  </thead>\n",
       "  <tbody>\n",
       "    <tr>\n",
       "      <th>1995-01-01</th>\n",
       "      <td>112</td>\n",
       "    </tr>\n",
       "    <tr>\n",
       "      <th>1995-02-01</th>\n",
       "      <td>118</td>\n",
       "    </tr>\n",
       "    <tr>\n",
       "      <th>1995-03-01</th>\n",
       "      <td>132</td>\n",
       "    </tr>\n",
       "    <tr>\n",
       "      <th>1995-04-01</th>\n",
       "      <td>129</td>\n",
       "    </tr>\n",
       "    <tr>\n",
       "      <th>1995-05-01</th>\n",
       "      <td>121</td>\n",
       "    </tr>\n",
       "  </tbody>\n",
       "</table>\n",
       "</div>"
      ],
      "text/plain": [
       "            Passengers\n",
       "Month                 \n",
       "1995-01-01         112\n",
       "1995-02-01         118\n",
       "1995-03-01         132\n",
       "1995-04-01         129\n",
       "1995-05-01         121"
      ]
     },
     "execution_count": 81,
     "metadata": {},
     "output_type": "execute_result"
    }
   ],
   "source": [
    "df_airline.head()"
   ]
  },
  {
   "cell_type": "code",
   "execution_count": 82,
   "id": "533b7887",
   "metadata": {},
   "outputs": [
    {
     "name": "stdout",
     "output_type": "stream",
     "text": [
      "Dataset 84, Validation 12\n"
     ]
    }
   ],
   "source": [
    "# separate out a validation dataset\n",
    "\n",
    "split_point = len(df_airline) - 12\n",
    "dataset, validation = df_airline[0:split_point], df_airline[split_point:]\n",
    "print('Dataset %d, Validation %d' % (len(dataset), len(validation)))"
   ]
  },
  {
   "cell_type": "code",
   "execution_count": null,
   "id": "88af98d0",
   "metadata": {},
   "outputs": [],
   "source": [
    "# Persistence/ Base model"
   ]
  },
  {
   "cell_type": "code",
   "execution_count": 83,
   "id": "4b6e48e0",
   "metadata": {},
   "outputs": [],
   "source": [
    "# evaluate a persistence model\n",
    "\n",
    "# prepare data\n",
    "X = dataset.values\n",
    "X = X.astype('float32')\n",
    "train_size = int(len(X) * 0.50)\n",
    "train, test = X[0:train_size], X[train_size:]"
   ]
  },
  {
   "cell_type": "code",
   "execution_count": 84,
   "id": "8d866265",
   "metadata": {},
   "outputs": [
    {
     "data": {
      "text/plain": [
       "(42, 42)"
      ]
     },
     "execution_count": 84,
     "metadata": {},
     "output_type": "execute_result"
    }
   ],
   "source": [
    "train.size, test.size"
   ]
  },
  {
   "cell_type": "code",
   "execution_count": 85,
   "id": "a8510a9b",
   "metadata": {},
   "outputs": [
    {
     "name": "stdout",
     "output_type": "stream",
     "text": [
      ">Predicted=218.000, Expected=230.000\n",
      ">Predicted=230.000, Expected=242.000\n",
      ">Predicted=242.000, Expected=209.000\n",
      ">Predicted=209.000, Expected=191.000\n",
      ">Predicted=191.000, Expected=172.000\n",
      ">Predicted=172.000, Expected=194.000\n",
      ">Predicted=194.000, Expected=196.000\n",
      ">Predicted=196.000, Expected=196.000\n",
      ">Predicted=196.000, Expected=236.000\n",
      ">Predicted=236.000, Expected=235.000\n",
      ">Predicted=235.000, Expected=229.000\n",
      ">Predicted=229.000, Expected=243.000\n",
      ">Predicted=243.000, Expected=264.000\n",
      ">Predicted=264.000, Expected=272.000\n",
      ">Predicted=272.000, Expected=237.000\n",
      ">Predicted=237.000, Expected=211.000\n",
      ">Predicted=211.000, Expected=180.000\n",
      ">Predicted=180.000, Expected=201.000\n",
      ">Predicted=201.000, Expected=204.000\n",
      ">Predicted=204.000, Expected=188.000\n",
      ">Predicted=188.000, Expected=235.000\n",
      ">Predicted=235.000, Expected=227.000\n",
      ">Predicted=227.000, Expected=234.000\n",
      ">Predicted=234.000, Expected=264.000\n",
      ">Predicted=264.000, Expected=302.000\n",
      ">Predicted=302.000, Expected=293.000\n",
      ">Predicted=293.000, Expected=259.000\n",
      ">Predicted=259.000, Expected=229.000\n",
      ">Predicted=229.000, Expected=203.000\n",
      ">Predicted=203.000, Expected=229.000\n",
      ">Predicted=229.000, Expected=242.000\n",
      ">Predicted=242.000, Expected=233.000\n",
      ">Predicted=233.000, Expected=267.000\n",
      ">Predicted=267.000, Expected=269.000\n",
      ">Predicted=269.000, Expected=270.000\n",
      ">Predicted=270.000, Expected=315.000\n",
      ">Predicted=315.000, Expected=364.000\n",
      ">Predicted=364.000, Expected=347.000\n",
      ">Predicted=347.000, Expected=312.000\n",
      ">Predicted=312.000, Expected=274.000\n",
      ">Predicted=274.000, Expected=237.000\n",
      ">Predicted=237.000, Expected=278.000\n",
      "MAE_base: 0.089\n"
     ]
    }
   ],
   "source": [
    "from sklearn.metrics import mean_squared_error\n",
    "# walk-forward validation\n",
    "history = [x for x in train]\n",
    "predictions = list()\n",
    "for i in range(len(test)):\n",
    "    yhat = history[-1]\n",
    "    predictions.append(yhat)\n",
    "    obs = test[i]\n",
    "    history.append(obs)\n",
    "    print('>Predicted=%.3f, Expected=%.3f' % (yhat, obs))\n",
    "# report performance\n",
    "MAE_base = MAE(predictions, test)\n",
    "print('MAE_base: %.3f' % MAE_base)"
   ]
  },
  {
   "cell_type": "code",
   "execution_count": null,
   "id": "98a16331",
   "metadata": {},
   "outputs": [],
   "source": [
    "# SARIMA Model"
   ]
  },
  {
   "cell_type": "code",
   "execution_count": 86,
   "id": "762d2b50",
   "metadata": {},
   "outputs": [],
   "source": [
    "df_airline = pd.read_excel('Airlines+Data.xlsx')"
   ]
  },
  {
   "cell_type": "code",
   "execution_count": 87,
   "id": "656afaa2",
   "metadata": {},
   "outputs": [],
   "source": [
    "df_airline.set_index('Month',inplace=True)"
   ]
  },
  {
   "cell_type": "code",
   "execution_count": 88,
   "id": "8bbb563a",
   "metadata": {},
   "outputs": [
    {
     "data": {
      "text/html": [
       "<div>\n",
       "<style scoped>\n",
       "    .dataframe tbody tr th:only-of-type {\n",
       "        vertical-align: middle;\n",
       "    }\n",
       "\n",
       "    .dataframe tbody tr th {\n",
       "        vertical-align: top;\n",
       "    }\n",
       "\n",
       "    .dataframe thead th {\n",
       "        text-align: right;\n",
       "    }\n",
       "</style>\n",
       "<table border=\"1\" class=\"dataframe\">\n",
       "  <thead>\n",
       "    <tr style=\"text-align: right;\">\n",
       "      <th></th>\n",
       "      <th>Passengers</th>\n",
       "    </tr>\n",
       "    <tr>\n",
       "      <th>Month</th>\n",
       "      <th></th>\n",
       "    </tr>\n",
       "  </thead>\n",
       "  <tbody>\n",
       "    <tr>\n",
       "      <th>1995-01-01</th>\n",
       "      <td>112</td>\n",
       "    </tr>\n",
       "    <tr>\n",
       "      <th>1995-02-01</th>\n",
       "      <td>118</td>\n",
       "    </tr>\n",
       "    <tr>\n",
       "      <th>1995-03-01</th>\n",
       "      <td>132</td>\n",
       "    </tr>\n",
       "    <tr>\n",
       "      <th>1995-04-01</th>\n",
       "      <td>129</td>\n",
       "    </tr>\n",
       "    <tr>\n",
       "      <th>1995-05-01</th>\n",
       "      <td>121</td>\n",
       "    </tr>\n",
       "  </tbody>\n",
       "</table>\n",
       "</div>"
      ],
      "text/plain": [
       "            Passengers\n",
       "Month                 \n",
       "1995-01-01         112\n",
       "1995-02-01         118\n",
       "1995-03-01         132\n",
       "1995-04-01         129\n",
       "1995-05-01         121"
      ]
     },
     "execution_count": 88,
     "metadata": {},
     "output_type": "execute_result"
    }
   ],
   "source": [
    "df_airline.head()"
   ]
  },
  {
   "cell_type": "code",
   "execution_count": 89,
   "id": "72f90196",
   "metadata": {},
   "outputs": [],
   "source": [
    "#performing test to check whether data is stationary or not\n",
    "from statsmodels.tsa.stattools import adfuller\n",
    "\n",
    "def adf_test(series):\n",
    "    result=adfuller(series)\n",
    "    print('ADF Statistics: {}'.format(result[0]))\n",
    "    print('p- value: {}'.format(result[1]))\n",
    "    if result[1] <= 0.05:\n",
    "        print(\"strong evidence against the null hypothesis, reject the null hypothesis. Data has no unit root and is stationary\")\n",
    "    else:\n",
    "        print(\"weak evidence against null hypothesis, time series has a unit root, indicating it is non-stationary \")"
   ]
  },
  {
   "cell_type": "code",
   "execution_count": 90,
   "id": "43080e5e",
   "metadata": {},
   "outputs": [
    {
     "name": "stdout",
     "output_type": "stream",
     "text": [
      "ADF Statistics: 1.3402479596467032\n",
      "p- value: 0.9968250481137263\n",
      "weak evidence against null hypothesis, time series has a unit root, indicating it is non-stationary \n"
     ]
    }
   ],
   "source": [
    "adf_test(df_airline['Passengers'])"
   ]
  },
  {
   "cell_type": "code",
   "execution_count": 91,
   "id": "cc842835",
   "metadata": {},
   "outputs": [],
   "source": [
    "## Use Techniques Differencing 1st time\n",
    "df_airline['Passengers First Difference']=df_airline['Passengers']-df_airline['Passengers'].shift(12)"
   ]
  },
  {
   "cell_type": "code",
   "execution_count": 92,
   "id": "dae476f4",
   "metadata": {},
   "outputs": [
    {
     "data": {
      "text/html": [
       "<div>\n",
       "<style scoped>\n",
       "    .dataframe tbody tr th:only-of-type {\n",
       "        vertical-align: middle;\n",
       "    }\n",
       "\n",
       "    .dataframe tbody tr th {\n",
       "        vertical-align: top;\n",
       "    }\n",
       "\n",
       "    .dataframe thead th {\n",
       "        text-align: right;\n",
       "    }\n",
       "</style>\n",
       "<table border=\"1\" class=\"dataframe\">\n",
       "  <thead>\n",
       "    <tr style=\"text-align: right;\">\n",
       "      <th></th>\n",
       "      <th>Passengers</th>\n",
       "      <th>Passengers First Difference</th>\n",
       "    </tr>\n",
       "    <tr>\n",
       "      <th>Month</th>\n",
       "      <th></th>\n",
       "      <th></th>\n",
       "    </tr>\n",
       "  </thead>\n",
       "  <tbody>\n",
       "    <tr>\n",
       "      <th>1995-11-01</th>\n",
       "      <td>104</td>\n",
       "      <td>NaN</td>\n",
       "    </tr>\n",
       "    <tr>\n",
       "      <th>1995-12-01</th>\n",
       "      <td>118</td>\n",
       "      <td>NaN</td>\n",
       "    </tr>\n",
       "    <tr>\n",
       "      <th>1996-01-01</th>\n",
       "      <td>115</td>\n",
       "      <td>3.0</td>\n",
       "    </tr>\n",
       "    <tr>\n",
       "      <th>1996-02-01</th>\n",
       "      <td>126</td>\n",
       "      <td>8.0</td>\n",
       "    </tr>\n",
       "    <tr>\n",
       "      <th>1996-03-01</th>\n",
       "      <td>141</td>\n",
       "      <td>9.0</td>\n",
       "    </tr>\n",
       "    <tr>\n",
       "      <th>1996-04-01</th>\n",
       "      <td>135</td>\n",
       "      <td>6.0</td>\n",
       "    </tr>\n",
       "    <tr>\n",
       "      <th>1996-05-01</th>\n",
       "      <td>125</td>\n",
       "      <td>4.0</td>\n",
       "    </tr>\n",
       "    <tr>\n",
       "      <th>1996-06-01</th>\n",
       "      <td>149</td>\n",
       "      <td>14.0</td>\n",
       "    </tr>\n",
       "    <tr>\n",
       "      <th>1996-07-01</th>\n",
       "      <td>170</td>\n",
       "      <td>22.0</td>\n",
       "    </tr>\n",
       "    <tr>\n",
       "      <th>1996-08-01</th>\n",
       "      <td>170</td>\n",
       "      <td>22.0</td>\n",
       "    </tr>\n",
       "  </tbody>\n",
       "</table>\n",
       "</div>"
      ],
      "text/plain": [
       "            Passengers  Passengers First Difference\n",
       "Month                                              \n",
       "1995-11-01         104                          NaN\n",
       "1995-12-01         118                          NaN\n",
       "1996-01-01         115                          3.0\n",
       "1996-02-01         126                          8.0\n",
       "1996-03-01         141                          9.0\n",
       "1996-04-01         135                          6.0\n",
       "1996-05-01         125                          4.0\n",
       "1996-06-01         149                         14.0\n",
       "1996-07-01         170                         22.0\n",
       "1996-08-01         170                         22.0"
      ]
     },
     "execution_count": 92,
     "metadata": {},
     "output_type": "execute_result"
    }
   ],
   "source": [
    "df_airline.iloc[10:20]"
   ]
  },
  {
   "cell_type": "code",
   "execution_count": 93,
   "id": "25d5d61f",
   "metadata": {},
   "outputs": [
    {
     "name": "stdout",
     "output_type": "stream",
     "text": [
      "ADF Statistics: -2.6900043838623167\n",
      "p- value: 0.07578397625851754\n",
      "weak evidence against null hypothesis, time series has a unit root, indicating it is non-stationary \n"
     ]
    }
   ],
   "source": [
    "adf_test(df_airline['Passengers First Difference'].dropna())"
   ]
  },
  {
   "cell_type": "code",
   "execution_count": 94,
   "id": "d3e0bc1f",
   "metadata": {},
   "outputs": [],
   "source": [
    "## Use Techniques Differencing 2nd time\n",
    "df_airline['Passengers Second Difference']=df_airline['Passengers First Difference']-df_airline['Passengers First Difference'].shift(12)"
   ]
  },
  {
   "cell_type": "code",
   "execution_count": 95,
   "id": "ec13f23d",
   "metadata": {},
   "outputs": [
    {
     "data": {
      "text/html": [
       "<div>\n",
       "<style scoped>\n",
       "    .dataframe tbody tr th:only-of-type {\n",
       "        vertical-align: middle;\n",
       "    }\n",
       "\n",
       "    .dataframe tbody tr th {\n",
       "        vertical-align: top;\n",
       "    }\n",
       "\n",
       "    .dataframe thead th {\n",
       "        text-align: right;\n",
       "    }\n",
       "</style>\n",
       "<table border=\"1\" class=\"dataframe\">\n",
       "  <thead>\n",
       "    <tr style=\"text-align: right;\">\n",
       "      <th></th>\n",
       "      <th>Passengers</th>\n",
       "      <th>Passengers First Difference</th>\n",
       "      <th>Passengers Second Difference</th>\n",
       "    </tr>\n",
       "    <tr>\n",
       "      <th>Month</th>\n",
       "      <th></th>\n",
       "      <th></th>\n",
       "      <th></th>\n",
       "    </tr>\n",
       "  </thead>\n",
       "  <tbody>\n",
       "    <tr>\n",
       "      <th>1996-09-01</th>\n",
       "      <td>158</td>\n",
       "      <td>22.0</td>\n",
       "      <td>NaN</td>\n",
       "    </tr>\n",
       "    <tr>\n",
       "      <th>1996-10-01</th>\n",
       "      <td>133</td>\n",
       "      <td>14.0</td>\n",
       "      <td>NaN</td>\n",
       "    </tr>\n",
       "    <tr>\n",
       "      <th>1996-11-01</th>\n",
       "      <td>114</td>\n",
       "      <td>10.0</td>\n",
       "      <td>NaN</td>\n",
       "    </tr>\n",
       "    <tr>\n",
       "      <th>1996-12-01</th>\n",
       "      <td>140</td>\n",
       "      <td>22.0</td>\n",
       "      <td>NaN</td>\n",
       "    </tr>\n",
       "    <tr>\n",
       "      <th>1997-01-01</th>\n",
       "      <td>145</td>\n",
       "      <td>30.0</td>\n",
       "      <td>27.0</td>\n",
       "    </tr>\n",
       "    <tr>\n",
       "      <th>1997-02-01</th>\n",
       "      <td>150</td>\n",
       "      <td>24.0</td>\n",
       "      <td>16.0</td>\n",
       "    </tr>\n",
       "    <tr>\n",
       "      <th>1997-03-01</th>\n",
       "      <td>178</td>\n",
       "      <td>37.0</td>\n",
       "      <td>28.0</td>\n",
       "    </tr>\n",
       "    <tr>\n",
       "      <th>1997-04-01</th>\n",
       "      <td>163</td>\n",
       "      <td>28.0</td>\n",
       "      <td>22.0</td>\n",
       "    </tr>\n",
       "    <tr>\n",
       "      <th>1997-05-01</th>\n",
       "      <td>172</td>\n",
       "      <td>47.0</td>\n",
       "      <td>43.0</td>\n",
       "    </tr>\n",
       "    <tr>\n",
       "      <th>1997-06-01</th>\n",
       "      <td>178</td>\n",
       "      <td>29.0</td>\n",
       "      <td>15.0</td>\n",
       "    </tr>\n",
       "  </tbody>\n",
       "</table>\n",
       "</div>"
      ],
      "text/plain": [
       "            Passengers  Passengers First Difference  \\\n",
       "Month                                                 \n",
       "1996-09-01         158                         22.0   \n",
       "1996-10-01         133                         14.0   \n",
       "1996-11-01         114                         10.0   \n",
       "1996-12-01         140                         22.0   \n",
       "1997-01-01         145                         30.0   \n",
       "1997-02-01         150                         24.0   \n",
       "1997-03-01         178                         37.0   \n",
       "1997-04-01         163                         28.0   \n",
       "1997-05-01         172                         47.0   \n",
       "1997-06-01         178                         29.0   \n",
       "\n",
       "            Passengers Second Difference  \n",
       "Month                                     \n",
       "1996-09-01                           NaN  \n",
       "1996-10-01                           NaN  \n",
       "1996-11-01                           NaN  \n",
       "1996-12-01                           NaN  \n",
       "1997-01-01                          27.0  \n",
       "1997-02-01                          16.0  \n",
       "1997-03-01                          28.0  \n",
       "1997-04-01                          22.0  \n",
       "1997-05-01                          43.0  \n",
       "1997-06-01                          15.0  "
      ]
     },
     "execution_count": 95,
     "metadata": {},
     "output_type": "execute_result"
    }
   ],
   "source": [
    "df_airline.iloc[20:30]"
   ]
  },
  {
   "cell_type": "code",
   "execution_count": 96,
   "id": "777095b6",
   "metadata": {},
   "outputs": [
    {
     "name": "stdout",
     "output_type": "stream",
     "text": [
      "ADF Statistics: -2.1094801421381826\n",
      "p- value: 0.24071971540603815\n",
      "weak evidence against null hypothesis, time series has a unit root, indicating it is non-stationary \n"
     ]
    }
   ],
   "source": [
    "adf_test(df_airline['Passengers Second Difference'].dropna())"
   ]
  },
  {
   "cell_type": "code",
   "execution_count": 97,
   "id": "3952369a",
   "metadata": {},
   "outputs": [],
   "source": [
    "## Use Techniques Differencing 2nd time\n",
    "df_airline['Passengers Third Difference']=df_airline['Passengers Second Difference']-df_airline['Passengers Second Difference'].shift(12)\n"
   ]
  },
  {
   "cell_type": "code",
   "execution_count": 98,
   "id": "60b41d59",
   "metadata": {},
   "outputs": [
    {
     "data": {
      "text/html": [
       "<div>\n",
       "<style scoped>\n",
       "    .dataframe tbody tr th:only-of-type {\n",
       "        vertical-align: middle;\n",
       "    }\n",
       "\n",
       "    .dataframe tbody tr th {\n",
       "        vertical-align: top;\n",
       "    }\n",
       "\n",
       "    .dataframe thead th {\n",
       "        text-align: right;\n",
       "    }\n",
       "</style>\n",
       "<table border=\"1\" class=\"dataframe\">\n",
       "  <thead>\n",
       "    <tr style=\"text-align: right;\">\n",
       "      <th></th>\n",
       "      <th>Passengers</th>\n",
       "      <th>Passengers First Difference</th>\n",
       "      <th>Passengers Second Difference</th>\n",
       "      <th>Passengers Third Difference</th>\n",
       "    </tr>\n",
       "    <tr>\n",
       "      <th>Month</th>\n",
       "      <th></th>\n",
       "      <th></th>\n",
       "      <th></th>\n",
       "      <th></th>\n",
       "    </tr>\n",
       "  </thead>\n",
       "  <tbody>\n",
       "    <tr>\n",
       "      <th>1997-07-01</th>\n",
       "      <td>199</td>\n",
       "      <td>29.0</td>\n",
       "      <td>7.0</td>\n",
       "      <td>NaN</td>\n",
       "    </tr>\n",
       "    <tr>\n",
       "      <th>1997-08-01</th>\n",
       "      <td>199</td>\n",
       "      <td>29.0</td>\n",
       "      <td>7.0</td>\n",
       "      <td>NaN</td>\n",
       "    </tr>\n",
       "    <tr>\n",
       "      <th>1997-09-01</th>\n",
       "      <td>184</td>\n",
       "      <td>26.0</td>\n",
       "      <td>4.0</td>\n",
       "      <td>NaN</td>\n",
       "    </tr>\n",
       "    <tr>\n",
       "      <th>1997-10-01</th>\n",
       "      <td>162</td>\n",
       "      <td>29.0</td>\n",
       "      <td>15.0</td>\n",
       "      <td>NaN</td>\n",
       "    </tr>\n",
       "    <tr>\n",
       "      <th>1997-11-01</th>\n",
       "      <td>146</td>\n",
       "      <td>32.0</td>\n",
       "      <td>22.0</td>\n",
       "      <td>NaN</td>\n",
       "    </tr>\n",
       "    <tr>\n",
       "      <th>1997-12-01</th>\n",
       "      <td>166</td>\n",
       "      <td>26.0</td>\n",
       "      <td>4.0</td>\n",
       "      <td>NaN</td>\n",
       "    </tr>\n",
       "    <tr>\n",
       "      <th>1998-01-01</th>\n",
       "      <td>171</td>\n",
       "      <td>26.0</td>\n",
       "      <td>-4.0</td>\n",
       "      <td>-31.0</td>\n",
       "    </tr>\n",
       "    <tr>\n",
       "      <th>1998-02-01</th>\n",
       "      <td>180</td>\n",
       "      <td>30.0</td>\n",
       "      <td>6.0</td>\n",
       "      <td>-10.0</td>\n",
       "    </tr>\n",
       "    <tr>\n",
       "      <th>1998-03-01</th>\n",
       "      <td>193</td>\n",
       "      <td>15.0</td>\n",
       "      <td>-22.0</td>\n",
       "      <td>-50.0</td>\n",
       "    </tr>\n",
       "    <tr>\n",
       "      <th>1998-04-01</th>\n",
       "      <td>181</td>\n",
       "      <td>18.0</td>\n",
       "      <td>-10.0</td>\n",
       "      <td>-32.0</td>\n",
       "    </tr>\n",
       "  </tbody>\n",
       "</table>\n",
       "</div>"
      ],
      "text/plain": [
       "            Passengers  Passengers First Difference  \\\n",
       "Month                                                 \n",
       "1997-07-01         199                         29.0   \n",
       "1997-08-01         199                         29.0   \n",
       "1997-09-01         184                         26.0   \n",
       "1997-10-01         162                         29.0   \n",
       "1997-11-01         146                         32.0   \n",
       "1997-12-01         166                         26.0   \n",
       "1998-01-01         171                         26.0   \n",
       "1998-02-01         180                         30.0   \n",
       "1998-03-01         193                         15.0   \n",
       "1998-04-01         181                         18.0   \n",
       "\n",
       "            Passengers Second Difference  Passengers Third Difference  \n",
       "Month                                                                  \n",
       "1997-07-01                           7.0                          NaN  \n",
       "1997-08-01                           7.0                          NaN  \n",
       "1997-09-01                           4.0                          NaN  \n",
       "1997-10-01                          15.0                          NaN  \n",
       "1997-11-01                          22.0                          NaN  \n",
       "1997-12-01                           4.0                          NaN  \n",
       "1998-01-01                          -4.0                        -31.0  \n",
       "1998-02-01                           6.0                        -10.0  \n",
       "1998-03-01                         -22.0                        -50.0  \n",
       "1998-04-01                         -10.0                        -32.0  "
      ]
     },
     "execution_count": 98,
     "metadata": {},
     "output_type": "execute_result"
    }
   ],
   "source": [
    "df_airline.iloc[30:40]"
   ]
  },
  {
   "cell_type": "code",
   "execution_count": 99,
   "id": "f0ef2a40",
   "metadata": {},
   "outputs": [
    {
     "name": "stdout",
     "output_type": "stream",
     "text": [
      "ADF Statistics: -4.89382405549013\n",
      "p- value: 3.585265761394368e-05\n",
      "strong evidence against the null hypothesis, reject the null hypothesis. Data has no unit root and is stationary\n"
     ]
    }
   ],
   "source": [
    "adf_test(df_airline['Passengers Third Difference'].dropna())"
   ]
  },
  {
   "cell_type": "markdown",
   "id": "2bdf751b",
   "metadata": {},
   "source": [
    "Note: We can perform ARIMA on Passengers Third Difference data as this is stationary"
   ]
  },
  {
   "cell_type": "code",
   "execution_count": 100,
   "id": "bf9abfbb",
   "metadata": {},
   "outputs": [
    {
     "data": {
      "image/png": "[encoded data removed]",
      "text/plain": [
       "<Figure size 640x480 with 1 Axes>"
      ]
     },
     "metadata": {},
     "output_type": "display_data"
    }
   ],
   "source": [
    "acf = plot_acf(df_airline[\"Passengers Third Difference\"].dropna())     #q= 2 / 12"
   ]
  },
  {
   "cell_type": "code",
   "execution_count": 101,
   "id": "9df8302d",
   "metadata": {},
   "outputs": [
    {
     "name": "stderr",
     "output_type": "stream",
     "text": [
      "F:\\D.S Software\\lib\\site-packages\\statsmodels\\graphics\\tsaplots.py:348: FutureWarning: The default method 'yw' can produce PACF values outside of the [-1,1] interval. After 0.13, the default will change tounadjusted Yule-Walker ('ywm'). You can use this method now by setting method='ywm'.\n",
      "  warnings.warn(\n"
     ]
    },
    {
     "data": {
      "image/png": "[encoded data removed]",
      "text/plain": [
       "<Figure size 640x480 with 1 Axes>"
      ]
     },
     "metadata": {},
     "output_type": "display_data"
    }
   ],
   "source": [
    "pacf = plot_pacf(df_airline[\"Passengers Third Difference\"].dropna())     #p= 1/10\n"
   ]
  },
  {
   "cell_type": "code",
   "execution_count": 102,
   "id": "c32a060d",
   "metadata": {},
   "outputs": [],
   "source": [
    "from datetime import datetime,timedelta\n",
    "train_dataset_end=datetime(1999,12,1)\n",
    "test_dataset_end=datetime(2002,12,1)"
   ]
  },
  {
   "cell_type": "code",
   "execution_count": 103,
   "id": "c42cfd7b",
   "metadata": {},
   "outputs": [],
   "source": [
    "train_data=df_airline[:train_dataset_end]\n",
    "test_data=df_airline[train_dataset_end+timedelta(days=1):test_dataset_end]"
   ]
  },
  {
   "cell_type": "code",
   "execution_count": 104,
   "id": "835af653",
   "metadata": {},
   "outputs": [],
   "source": [
    "## create a SARIMA model as we are working with seasonal data\n",
    "from statsmodels.tsa.statespace.sarimax import SARIMAX"
   ]
  },
  {
   "cell_type": "code",
   "execution_count": 105,
   "id": "916d8ec7",
   "metadata": {},
   "outputs": [
    {
     "name": "stderr",
     "output_type": "stream",
     "text": [
      "F:\\D.S Software\\lib\\site-packages\\statsmodels\\tsa\\base\\tsa_model.py:471: ValueWarning: No frequency information was provided, so inferred frequency MS will be used.\n",
      "  self._init_dates(dates, freq)\n",
      "F:\\D.S Software\\lib\\site-packages\\statsmodels\\tsa\\base\\tsa_model.py:471: ValueWarning: No frequency information was provided, so inferred frequency MS will be used.\n",
      "  self._init_dates(dates, freq)\n"
     ]
    }
   ],
   "source": [
    "model_SARIMA=SARIMAX(train_data['Passengers'],order=(10,0,2),seasonal_order=(0,3,0,12))"
   ]
  },
  {
   "cell_type": "code",
   "execution_count": 106,
   "id": "d77521bc",
   "metadata": {},
   "outputs": [
    {
     "name": "stderr",
     "output_type": "stream",
     "text": [
      "F:\\D.S Software\\lib\\site-packages\\statsmodels\\base\\model.py:604: ConvergenceWarning: Maximum Likelihood optimization failed to converge. Check mle_retvals\n",
      "  warnings.warn(\"Maximum Likelihood optimization failed to \"\n"
     ]
    }
   ],
   "source": [
    "model_SARIMA_fit=model_SARIMA.fit()"
   ]
  },
  {
   "cell_type": "code",
   "execution_count": 107,
   "id": "5f07dda2",
   "metadata": {},
   "outputs": [
    {
     "data": {
      "text/html": [
       "<table class=\"simpletable\">\n",
       "<caption>SARIMAX Results</caption>\n",
       "<tr>\n",
       "  <th>Dep. Variable:</th>              <td>Passengers</td>            <th>  No. Observations:  </th>    <td>60</td>   \n",
       "</tr>\n",
       "<tr>\n",
       "  <th>Model:</th>           <td>SARIMAX(10, 0, 2)x(0, 3, [], 12)</td> <th>  Log Likelihood     </th> <td>-106.783</td>\n",
       "</tr>\n",
       "<tr>\n",
       "  <th>Date:</th>                    <td>Wed, 07 Feb 2024</td>         <th>  AIC                </th>  <td>239.565</td>\n",
       "</tr>\n",
       "<tr>\n",
       "  <th>Time:</th>                        <td>12:43:43</td>             <th>  BIC                </th>  <td>254.880</td>\n",
       "</tr>\n",
       "<tr>\n",
       "  <th>Sample:</th>                     <td>01-01-1995</td>            <th>  HQIC               </th>  <td>243.628</td>\n",
       "</tr>\n",
       "<tr>\n",
       "  <th></th>                           <td>- 12-01-1999</td>           <th>                     </th>     <td> </td>   \n",
       "</tr>\n",
       "<tr>\n",
       "  <th>Covariance Type:</th>                <td>opg</td>               <th>                     </th>     <td> </td>   \n",
       "</tr>\n",
       "</table>\n",
       "<table class=\"simpletable\">\n",
       "<tr>\n",
       "     <td></td>       <th>coef</th>     <th>std err</th>      <th>z</th>      <th>P>|z|</th>  <th>[0.025</th>    <th>0.975]</th>  \n",
       "</tr>\n",
       "<tr>\n",
       "  <th>ar.L1</th>  <td>    0.5802</td> <td>    0.629</td> <td>    0.923</td> <td> 0.356</td> <td>   -0.652</td> <td>    1.812</td>\n",
       "</tr>\n",
       "<tr>\n",
       "  <th>ar.L2</th>  <td>    0.4939</td> <td>    0.715</td> <td>    0.691</td> <td> 0.490</td> <td>   -0.907</td> <td>    1.895</td>\n",
       "</tr>\n",
       "<tr>\n",
       "  <th>ar.L3</th>  <td>   -0.4803</td> <td>    0.616</td> <td>   -0.779</td> <td> 0.436</td> <td>   -1.688</td> <td>    0.728</td>\n",
       "</tr>\n",
       "<tr>\n",
       "  <th>ar.L4</th>  <td>    0.1986</td> <td>    0.547</td> <td>    0.363</td> <td> 0.716</td> <td>   -0.873</td> <td>    1.270</td>\n",
       "</tr>\n",
       "<tr>\n",
       "  <th>ar.L5</th>  <td>   -0.1637</td> <td>    0.484</td> <td>   -0.338</td> <td> 0.735</td> <td>   -1.112</td> <td>    0.785</td>\n",
       "</tr>\n",
       "<tr>\n",
       "  <th>ar.L6</th>  <td>   -0.0070</td> <td>    0.479</td> <td>   -0.015</td> <td> 0.988</td> <td>   -0.945</td> <td>    0.931</td>\n",
       "</tr>\n",
       "<tr>\n",
       "  <th>ar.L7</th>  <td>   -0.0393</td> <td>    0.585</td> <td>   -0.067</td> <td> 0.946</td> <td>   -1.185</td> <td>    1.106</td>\n",
       "</tr>\n",
       "<tr>\n",
       "  <th>ar.L8</th>  <td>   -0.0790</td> <td>    0.319</td> <td>   -0.248</td> <td> 0.804</td> <td>   -0.704</td> <td>    0.546</td>\n",
       "</tr>\n",
       "<tr>\n",
       "  <th>ar.L9</th>  <td>    0.3846</td> <td>    0.615</td> <td>    0.625</td> <td> 0.532</td> <td>   -0.821</td> <td>    1.590</td>\n",
       "</tr>\n",
       "<tr>\n",
       "  <th>ar.L10</th> <td>   -0.4763</td> <td>    0.439</td> <td>   -1.085</td> <td> 0.278</td> <td>   -1.337</td> <td>    0.384</td>\n",
       "</tr>\n",
       "<tr>\n",
       "  <th>ma.L1</th>  <td>    0.2003</td> <td>   12.500</td> <td>    0.016</td> <td> 0.987</td> <td>  -24.299</td> <td>   24.700</td>\n",
       "</tr>\n",
       "<tr>\n",
       "  <th>ma.L2</th>  <td>   -0.7817</td> <td>   10.190</td> <td>   -0.077</td> <td> 0.939</td> <td>  -20.754</td> <td>   19.191</td>\n",
       "</tr>\n",
       "<tr>\n",
       "  <th>sigma2</th> <td>   98.1833</td> <td> 1204.754</td> <td>    0.081</td> <td> 0.935</td> <td>-2263.091</td> <td> 2459.458</td>\n",
       "</tr>\n",
       "</table>\n",
       "<table class=\"simpletable\">\n",
       "<tr>\n",
       "  <th>Ljung-Box (L1) (Q):</th>     <td>1.22</td> <th>  Jarque-Bera (JB):  </th> <td>1.58</td> \n",
       "</tr>\n",
       "<tr>\n",
       "  <th>Prob(Q):</th>                <td>0.27</td> <th>  Prob(JB):          </th> <td>0.45</td> \n",
       "</tr>\n",
       "<tr>\n",
       "  <th>Heteroskedasticity (H):</th> <td>0.92</td> <th>  Skew:              </th> <td>-0.16</td>\n",
       "</tr>\n",
       "<tr>\n",
       "  <th>Prob(H) (two-sided):</th>    <td>0.91</td> <th>  Kurtosis:          </th> <td>1.78</td> \n",
       "</tr>\n",
       "</table><br/><br/>Warnings:<br/>[1] Covariance matrix calculated using the outer product of gradients (complex-step)."
      ],
      "text/plain": [
       "<class 'statsmodels.iolib.summary.Summary'>\n",
       "\"\"\"\n",
       "                                      SARIMAX Results                                       \n",
       "============================================================================================\n",
       "Dep. Variable:                           Passengers   No. Observations:                   60\n",
       "Model:             SARIMAX(10, 0, 2)x(0, 3, [], 12)   Log Likelihood                -106.783\n",
       "Date:                              Wed, 07 Feb 2024   AIC                            239.565\n",
       "Time:                                      12:43:43   BIC                            254.880\n",
       "Sample:                                  01-01-1995   HQIC                           243.628\n",
       "                                       - 12-01-1999                                         \n",
       "Covariance Type:                                opg                                         \n",
       "==============================================================================\n",
       "                 coef    std err          z      P>|z|      [0.025      0.975]\n",
       "------------------------------------------------------------------------------\n",
       "ar.L1          0.5802      0.629      0.923      0.356      -0.652       1.812\n",
       "ar.L2          0.4939      0.715      0.691      0.490      -0.907       1.895\n",
       "ar.L3         -0.4803      0.616     -0.779      0.436      -1.688       0.728\n",
       "ar.L4          0.1986      0.547      0.363      0.716      -0.873       1.270\n",
       "ar.L5         -0.1637      0.484     -0.338      0.735      -1.112       0.785\n",
       "ar.L6         -0.0070      0.479     -0.015      0.988      -0.945       0.931\n",
       "ar.L7         -0.0393      0.585     -0.067      0.946      -1.185       1.106\n",
       "ar.L8         -0.0790      0.319     -0.248      0.804      -0.704       0.546\n",
       "ar.L9          0.3846      0.615      0.625      0.532      -0.821       1.590\n",
       "ar.L10        -0.4763      0.439     -1.085      0.278      -1.337       0.384\n",
       "ma.L1          0.2003     12.500      0.016      0.987     -24.299      24.700\n",
       "ma.L2         -0.7817     10.190     -0.077      0.939     -20.754      19.191\n",
       "sigma2        98.1833   1204.754      0.081      0.935   -2263.091    2459.458\n",
       "===================================================================================\n",
       "Ljung-Box (L1) (Q):                   1.22   Jarque-Bera (JB):                 1.58\n",
       "Prob(Q):                              0.27   Prob(JB):                         0.45\n",
       "Heteroskedasticity (H):               0.92   Skew:                            -0.16\n",
       "Prob(H) (two-sided):                  0.91   Kurtosis:                         1.78\n",
       "===================================================================================\n",
       "\n",
       "Warnings:\n",
       "[1] Covariance matrix calculated using the outer product of gradients (complex-step).\n",
       "\"\"\""
      ]
     },
     "execution_count": 107,
     "metadata": {},
     "output_type": "execute_result"
    }
   ],
   "source": [
    "model_SARIMA_fit.summary()"
   ]
  },
  {
   "cell_type": "code",
   "execution_count": 108,
   "id": "65865c57",
   "metadata": {},
   "outputs": [
    {
     "data": {
      "text/html": [
       "<div>\n",
       "<style scoped>\n",
       "    .dataframe tbody tr th:only-of-type {\n",
       "        vertical-align: middle;\n",
       "    }\n",
       "\n",
       "    .dataframe tbody tr th {\n",
       "        vertical-align: top;\n",
       "    }\n",
       "\n",
       "    .dataframe thead th {\n",
       "        text-align: right;\n",
       "    }\n",
       "</style>\n",
       "<table border=\"1\" class=\"dataframe\">\n",
       "  <thead>\n",
       "    <tr style=\"text-align: right;\">\n",
       "      <th></th>\n",
       "      <th>Passengers</th>\n",
       "      <th>Passengers First Difference</th>\n",
       "      <th>Passengers Second Difference</th>\n",
       "      <th>Passengers Third Difference</th>\n",
       "    </tr>\n",
       "    <tr>\n",
       "      <th>Month</th>\n",
       "      <th></th>\n",
       "      <th></th>\n",
       "      <th></th>\n",
       "      <th></th>\n",
       "    </tr>\n",
       "  </thead>\n",
       "  <tbody>\n",
       "    <tr>\n",
       "      <th>2002-08-01</th>\n",
       "      <td>405</td>\n",
       "      <td>58.0</td>\n",
       "      <td>4.0</td>\n",
       "      <td>-29.0</td>\n",
       "    </tr>\n",
       "    <tr>\n",
       "      <th>2002-09-01</th>\n",
       "      <td>355</td>\n",
       "      <td>43.0</td>\n",
       "      <td>-10.0</td>\n",
       "      <td>-41.0</td>\n",
       "    </tr>\n",
       "    <tr>\n",
       "      <th>2002-10-01</th>\n",
       "      <td>306</td>\n",
       "      <td>32.0</td>\n",
       "      <td>-13.0</td>\n",
       "      <td>-40.0</td>\n",
       "    </tr>\n",
       "    <tr>\n",
       "      <th>2002-11-01</th>\n",
       "      <td>271</td>\n",
       "      <td>34.0</td>\n",
       "      <td>0.0</td>\n",
       "      <td>-11.0</td>\n",
       "    </tr>\n",
       "    <tr>\n",
       "      <th>2002-12-01</th>\n",
       "      <td>306</td>\n",
       "      <td>28.0</td>\n",
       "      <td>-21.0</td>\n",
       "      <td>-42.0</td>\n",
       "    </tr>\n",
       "  </tbody>\n",
       "</table>\n",
       "</div>"
      ],
      "text/plain": [
       "            Passengers  Passengers First Difference  \\\n",
       "Month                                                 \n",
       "2002-08-01         405                         58.0   \n",
       "2002-09-01         355                         43.0   \n",
       "2002-10-01         306                         32.0   \n",
       "2002-11-01         271                         34.0   \n",
       "2002-12-01         306                         28.0   \n",
       "\n",
       "            Passengers Second Difference  Passengers Third Difference  \n",
       "Month                                                                  \n",
       "2002-08-01                           4.0                        -29.0  \n",
       "2002-09-01                         -10.0                        -41.0  \n",
       "2002-10-01                         -13.0                        -40.0  \n",
       "2002-11-01                           0.0                        -11.0  \n",
       "2002-12-01                         -21.0                        -42.0  "
      ]
     },
     "execution_count": 108,
     "metadata": {},
     "output_type": "execute_result"
    }
   ],
   "source": [
    "test_data.tail()"
   ]
  },
  {
   "cell_type": "code",
   "execution_count": 109,
   "id": "fd6ad58b",
   "metadata": {},
   "outputs": [
    {
     "name": "stdout",
     "output_type": "stream",
     "text": [
      "2000-01-01 00:00:00\n",
      "2002-12-01 00:00:00\n"
     ]
    }
   ],
   "source": [
    "##prediction\n",
    "pred_start_date=test_data.index[0]\n",
    "pred_end_date=test_data.index[-1]\n",
    "print(pred_start_date)\n",
    "print(pred_end_date)"
   ]
  },
  {
   "cell_type": "code",
   "execution_count": 110,
   "id": "a27dbfbe",
   "metadata": {},
   "outputs": [],
   "source": [
    "pred_Sarima=model_SARIMA_fit.predict(start=datetime(2000,1,1),end=datetime(2002,12,1))"
   ]
  },
  {
   "cell_type": "code",
   "execution_count": 111,
   "id": "4445cd57",
   "metadata": {},
   "outputs": [
    {
     "data": {
      "text/plain": [
       "0.1603987332322756"
      ]
     },
     "execution_count": 111,
     "metadata": {},
     "output_type": "execute_result"
    }
   ],
   "source": [
    "MAE_Sarima = MAE(pred_Sarima, test_data['Passengers'])\n",
    "MAE_Sarima "
   ]
  },
  {
   "cell_type": "code",
   "execution_count": 112,
   "id": "d25d73e7",
   "metadata": {},
   "outputs": [
    {
     "data": {
      "text/html": [
       "<div>\n",
       "<style scoped>\n",
       "    .dataframe tbody tr th:only-of-type {\n",
       "        vertical-align: middle;\n",
       "    }\n",
       "\n",
       "    .dataframe tbody tr th {\n",
       "        vertical-align: top;\n",
       "    }\n",
       "\n",
       "    .dataframe thead th {\n",
       "        text-align: right;\n",
       "    }\n",
       "</style>\n",
       "<table border=\"1\" class=\"dataframe\">\n",
       "  <thead>\n",
       "    <tr style=\"text-align: right;\">\n",
       "      <th></th>\n",
       "      <th>MODEL</th>\n",
       "      <th>MAE_Values</th>\n",
       "    </tr>\n",
       "  </thead>\n",
       "  <tbody>\n",
       "    <tr>\n",
       "      <th>6</th>\n",
       "      <td>MAE_Mult_add_sea</td>\n",
       "      <td>0.024187</td>\n",
       "    </tr>\n",
       "    <tr>\n",
       "      <th>10</th>\n",
       "      <td>MAE__hwe_mul_add</td>\n",
       "      <td>0.028211</td>\n",
       "    </tr>\n",
       "    <tr>\n",
       "      <th>4</th>\n",
       "      <td>MAE_add_sea_quad</td>\n",
       "      <td>0.055711</td>\n",
       "    </tr>\n",
       "    <tr>\n",
       "      <th>9</th>\n",
       "      <td>MAE_hwe_add_add</td>\n",
       "      <td>0.057341</td>\n",
       "    </tr>\n",
       "    <tr>\n",
       "      <th>11</th>\n",
       "      <td>MAE_base</td>\n",
       "      <td>0.089354</td>\n",
       "    </tr>\n",
       "    <tr>\n",
       "      <th>1</th>\n",
       "      <td>MAE_Exp</td>\n",
       "      <td>0.111025</td>\n",
       "    </tr>\n",
       "    <tr>\n",
       "      <th>2</th>\n",
       "      <td>MAE_Quad</td>\n",
       "      <td>0.118382</td>\n",
       "    </tr>\n",
       "    <tr>\n",
       "      <th>0</th>\n",
       "      <td>MAE_linear</td>\n",
       "      <td>0.128759</td>\n",
       "    </tr>\n",
       "    <tr>\n",
       "      <th>7</th>\n",
       "      <td>MAE_ses</td>\n",
       "      <td>0.134113</td>\n",
       "    </tr>\n",
       "    <tr>\n",
       "      <th>12</th>\n",
       "      <td>MAE_SARIMA</td>\n",
       "      <td>0.160399</td>\n",
       "    </tr>\n",
       "    <tr>\n",
       "      <th>8</th>\n",
       "      <td>MAE_hw</td>\n",
       "      <td>0.235307</td>\n",
       "    </tr>\n",
       "    <tr>\n",
       "      <th>3</th>\n",
       "      <td>MAE_add_sea</td>\n",
       "      <td>0.660196</td>\n",
       "    </tr>\n",
       "    <tr>\n",
       "      <th>5</th>\n",
       "      <td>MAE_Mult_sea</td>\n",
       "      <td>0.721824</td>\n",
       "    </tr>\n",
       "  </tbody>\n",
       "</table>\n",
       "</div>"
      ],
      "text/plain": [
       "               MODEL  MAE_Values\n",
       "6   MAE_Mult_add_sea    0.024187\n",
       "10  MAE__hwe_mul_add    0.028211\n",
       "4   MAE_add_sea_quad    0.055711\n",
       "9    MAE_hwe_add_add    0.057341\n",
       "11          MAE_base    0.089354\n",
       "1            MAE_Exp    0.111025\n",
       "2           MAE_Quad    0.118382\n",
       "0         MAE_linear    0.128759\n",
       "7            MAE_ses    0.134113\n",
       "12        MAE_SARIMA    0.160399\n",
       "8             MAE_hw    0.235307\n",
       "3        MAE_add_sea    0.660196\n",
       "5       MAE_Mult_sea    0.721824"
      ]
     },
     "execution_count": 112,
     "metadata": {},
     "output_type": "execute_result"
    }
   ],
   "source": [
    "#Compare the results \n",
    "\n",
    "data = {\"MODEL\":pd.Series([\"MAE_linear\",\"MAE_Exp\",\"MAE_Quad\",\"MAE_add_sea\",\"MAE_add_sea_quad\",\"MAE_Mult_sea\",\"MAE_Mult_add_sea\",\"MAE_ses\",\"MAE_hw\",\"MAE_hwe_add_add\",\"MAE__hwe_mul_add\",\"MAE_base\",\"MAE_SARIMA\"]),\"MAE_Values\":pd.Series([mae_linear,mae_Exp,mae_Quad,mae_add_sea,mae_add_sea_quad,mae_Mult_sea,mae_Mult_add_sea,MAE_ses,MAE_hw,MAE__hwe_add_add,MAE__hwe_mul_add,MAE_base,MAE_Sarima])}\n",
    "table_mae=pd.DataFrame(data)\n",
    "table_mae.sort_values(['MAE_Values'])"
   ]
  },
  {
   "cell_type": "markdown",
   "id": "5658d248",
   "metadata": {},
   "source": [
    "Note: From all the models created we can see here *Multiplicative Additive Seasonality* giving us best results as the Test MAE is the lowest for this data.\n",
    "\n",
    "Let us build a model and forecast year of 2003."
   ]
  },
  {
   "cell_type": "code",
   "execution_count": null,
   "id": "919e56f8",
   "metadata": {},
   "outputs": [],
   "source": [
    "# Predict on new data"
   ]
  },
  {
   "cell_type": "code",
   "execution_count": 113,
   "id": "e6f3b6a8",
   "metadata": {},
   "outputs": [],
   "source": [
    "Test = airline1.tail(12)"
   ]
  },
  {
   "cell_type": "code",
   "execution_count": 114,
   "id": "c34e482e",
   "metadata": {},
   "outputs": [],
   "source": [
    "Test.to_csv('predict_data.csv')\n",
    "#Editted the test data a little to forecast passengers for year 2003"
   ]
  },
  {
   "cell_type": "code",
   "execution_count": 117,
   "id": "cd4dac84",
   "metadata": {},
   "outputs": [
    {
     "data": {
      "text/html": [
       "<div>\n",
       "<style scoped>\n",
       "    .dataframe tbody tr th:only-of-type {\n",
       "        vertical-align: middle;\n",
       "    }\n",
       "\n",
       "    .dataframe tbody tr th {\n",
       "        vertical-align: top;\n",
       "    }\n",
       "\n",
       "    .dataframe thead th {\n",
       "        text-align: right;\n",
       "    }\n",
       "</style>\n",
       "<table border=\"1\" class=\"dataframe\">\n",
       "  <thead>\n",
       "    <tr style=\"text-align: right;\">\n",
       "      <th></th>\n",
       "      <th>Unnamed: 0</th>\n",
       "      <th>Month</th>\n",
       "      <th>Passengers</th>\n",
       "      <th>year</th>\n",
       "      <th>month_Apr</th>\n",
       "      <th>month_Aug</th>\n",
       "      <th>month_Dec</th>\n",
       "      <th>month_Feb</th>\n",
       "      <th>month_Jan</th>\n",
       "      <th>month_Jul</th>\n",
       "      <th>month_Jun</th>\n",
       "      <th>month_Mar</th>\n",
       "      <th>month_May</th>\n",
       "      <th>month_Nov</th>\n",
       "      <th>month_Oct</th>\n",
       "      <th>month_Sep</th>\n",
       "      <th>log_passengers</th>\n",
       "      <th>t</th>\n",
       "      <th>t_sqr</th>\n",
       "    </tr>\n",
       "  </thead>\n",
       "  <tbody>\n",
       "    <tr>\n",
       "      <th>0</th>\n",
       "      <td>84</td>\n",
       "      <td>01-01-2003</td>\n",
       "      <td>284</td>\n",
       "      <td>2003</td>\n",
       "      <td>0</td>\n",
       "      <td>0</td>\n",
       "      <td>0</td>\n",
       "      <td>0</td>\n",
       "      <td>1</td>\n",
       "      <td>0</td>\n",
       "      <td>0</td>\n",
       "      <td>0</td>\n",
       "      <td>0</td>\n",
       "      <td>0</td>\n",
       "      <td>0</td>\n",
       "      <td>0</td>\n",
       "      <td>5.648974</td>\n",
       "      <td>85</td>\n",
       "      <td>7225</td>\n",
       "    </tr>\n",
       "    <tr>\n",
       "      <th>1</th>\n",
       "      <td>85</td>\n",
       "      <td>01-02-2003</td>\n",
       "      <td>277</td>\n",
       "      <td>2003</td>\n",
       "      <td>0</td>\n",
       "      <td>0</td>\n",
       "      <td>0</td>\n",
       "      <td>1</td>\n",
       "      <td>0</td>\n",
       "      <td>0</td>\n",
       "      <td>0</td>\n",
       "      <td>0</td>\n",
       "      <td>0</td>\n",
       "      <td>0</td>\n",
       "      <td>0</td>\n",
       "      <td>0</td>\n",
       "      <td>5.624018</td>\n",
       "      <td>86</td>\n",
       "      <td>7396</td>\n",
       "    </tr>\n",
       "    <tr>\n",
       "      <th>2</th>\n",
       "      <td>86</td>\n",
       "      <td>01-03-2003</td>\n",
       "      <td>317</td>\n",
       "      <td>2003</td>\n",
       "      <td>0</td>\n",
       "      <td>0</td>\n",
       "      <td>0</td>\n",
       "      <td>0</td>\n",
       "      <td>0</td>\n",
       "      <td>0</td>\n",
       "      <td>0</td>\n",
       "      <td>1</td>\n",
       "      <td>0</td>\n",
       "      <td>0</td>\n",
       "      <td>0</td>\n",
       "      <td>0</td>\n",
       "      <td>5.758902</td>\n",
       "      <td>87</td>\n",
       "      <td>7569</td>\n",
       "    </tr>\n",
       "    <tr>\n",
       "      <th>3</th>\n",
       "      <td>87</td>\n",
       "      <td>01-04-2003</td>\n",
       "      <td>313</td>\n",
       "      <td>2003</td>\n",
       "      <td>1</td>\n",
       "      <td>0</td>\n",
       "      <td>0</td>\n",
       "      <td>0</td>\n",
       "      <td>0</td>\n",
       "      <td>0</td>\n",
       "      <td>0</td>\n",
       "      <td>0</td>\n",
       "      <td>0</td>\n",
       "      <td>0</td>\n",
       "      <td>0</td>\n",
       "      <td>0</td>\n",
       "      <td>5.746203</td>\n",
       "      <td>88</td>\n",
       "      <td>7744</td>\n",
       "    </tr>\n",
       "    <tr>\n",
       "      <th>4</th>\n",
       "      <td>88</td>\n",
       "      <td>01-05-2003</td>\n",
       "      <td>318</td>\n",
       "      <td>2003</td>\n",
       "      <td>0</td>\n",
       "      <td>0</td>\n",
       "      <td>0</td>\n",
       "      <td>0</td>\n",
       "      <td>0</td>\n",
       "      <td>0</td>\n",
       "      <td>0</td>\n",
       "      <td>0</td>\n",
       "      <td>1</td>\n",
       "      <td>0</td>\n",
       "      <td>0</td>\n",
       "      <td>0</td>\n",
       "      <td>5.762051</td>\n",
       "      <td>89</td>\n",
       "      <td>7921</td>\n",
       "    </tr>\n",
       "  </tbody>\n",
       "</table>\n",
       "</div>"
      ],
      "text/plain": [
       "   Unnamed: 0       Month  Passengers  year  month_Apr  month_Aug  month_Dec  \\\n",
       "0          84  01-01-2003         284  2003          0          0          0   \n",
       "1          85  01-02-2003         277  2003          0          0          0   \n",
       "2          86  01-03-2003         317  2003          0          0          0   \n",
       "3          87  01-04-2003         313  2003          1          0          0   \n",
       "4          88  01-05-2003         318  2003          0          0          0   \n",
       "\n",
       "   month_Feb  month_Jan  month_Jul  month_Jun  month_Mar  month_May  \\\n",
       "0          0          1          0          0          0          0   \n",
       "1          1          0          0          0          0          0   \n",
       "2          0          0          0          0          1          0   \n",
       "3          0          0          0          0          0          0   \n",
       "4          0          0          0          0          0          1   \n",
       "\n",
       "   month_Nov  month_Oct  month_Sep  log_passengers   t  t_sqr  \n",
       "0          0          0          0        5.648974  85   7225  \n",
       "1          0          0          0        5.624018  86   7396  \n",
       "2          0          0          0        5.758902  87   7569  \n",
       "3          0          0          0        5.746203  88   7744  \n",
       "4          0          0          0        5.762051  89   7921  "
      ]
     },
     "execution_count": 117,
     "metadata": {},
     "output_type": "execute_result"
    }
   ],
   "source": [
    "#We will try to predict the data for the whole year of 2003\n",
    "predict_data = pd.read_csv('predict_data.csv')\n",
    "predict_data.head()"
   ]
  },
  {
   "cell_type": "code",
   "execution_count": 118,
   "id": "dbdc835e",
   "metadata": {},
   "outputs": [
    {
     "name": "stdout",
     "output_type": "stream",
     "text": [
      "<class 'pandas.core.frame.DataFrame'>\n",
      "RangeIndex: 12 entries, 0 to 11\n",
      "Data columns (total 19 columns):\n",
      " #   Column          Non-Null Count  Dtype  \n",
      "---  ------          --------------  -----  \n",
      " 0   Unnamed: 0      12 non-null     int64  \n",
      " 1   Month           12 non-null     object \n",
      " 2   Passengers      12 non-null     int64  \n",
      " 3   year            12 non-null     int64  \n",
      " 4   month_Apr       12 non-null     int64  \n",
      " 5   month_Aug       12 non-null     int64  \n",
      " 6   month_Dec       12 non-null     int64  \n",
      " 7   month_Feb       12 non-null     int64  \n",
      " 8   month_Jan       12 non-null     int64  \n",
      " 9   month_Jul       12 non-null     int64  \n",
      " 10  month_Jun       12 non-null     int64  \n",
      " 11  month_Mar       12 non-null     int64  \n",
      " 12  month_May       12 non-null     int64  \n",
      " 13  month_Nov       12 non-null     int64  \n",
      " 14  month_Oct       12 non-null     int64  \n",
      " 15  month_Sep       12 non-null     int64  \n",
      " 16  log_passengers  12 non-null     float64\n",
      " 17  t               12 non-null     int64  \n",
      " 18  t_sqr           12 non-null     int64  \n",
      "dtypes: float64(1), int64(17), object(1)\n",
      "memory usage: 1.9+ KB\n"
     ]
    }
   ],
   "source": [
    "predict_data.info()"
   ]
  },
  {
   "cell_type": "code",
   "execution_count": 119,
   "id": "a7c04e8f",
   "metadata": {},
   "outputs": [],
   "source": [
    "#Convert Month column dtype to datetime64\n",
    "predict_data['Month'] = predict_data['Month'].astype(\"datetime64[ns]\")"
   ]
  },
  {
   "cell_type": "code",
   "execution_count": 120,
   "id": "9e785231",
   "metadata": {},
   "outputs": [
    {
     "name": "stdout",
     "output_type": "stream",
     "text": [
      "<class 'pandas.core.frame.DataFrame'>\n",
      "RangeIndex: 12 entries, 0 to 11\n",
      "Data columns (total 19 columns):\n",
      " #   Column          Non-Null Count  Dtype         \n",
      "---  ------          --------------  -----         \n",
      " 0   Unnamed: 0      12 non-null     int64         \n",
      " 1   Month           12 non-null     datetime64[ns]\n",
      " 2   Passengers      12 non-null     int64         \n",
      " 3   year            12 non-null     int64         \n",
      " 4   month_Apr       12 non-null     int64         \n",
      " 5   month_Aug       12 non-null     int64         \n",
      " 6   month_Dec       12 non-null     int64         \n",
      " 7   month_Feb       12 non-null     int64         \n",
      " 8   month_Jan       12 non-null     int64         \n",
      " 9   month_Jul       12 non-null     int64         \n",
      " 10  month_Jun       12 non-null     int64         \n",
      " 11  month_Mar       12 non-null     int64         \n",
      " 12  month_May       12 non-null     int64         \n",
      " 13  month_Nov       12 non-null     int64         \n",
      " 14  month_Oct       12 non-null     int64         \n",
      " 15  month_Sep       12 non-null     int64         \n",
      " 16  log_passengers  12 non-null     float64       \n",
      " 17  t               12 non-null     int64         \n",
      " 18  t_sqr           12 non-null     int64         \n",
      "dtypes: datetime64[ns](1), float64(1), int64(17)\n",
      "memory usage: 1.9 KB\n"
     ]
    }
   ],
   "source": [
    "predict_data.info()"
   ]
  },
  {
   "cell_type": "code",
   "execution_count": 121,
   "id": "16d2407c",
   "metadata": {},
   "outputs": [],
   "source": [
    "#Build model on whole airline1 data with Multiplicative Additive Seasonality model\n",
    "final_model = smf.ols('log_passengers~t+month_Jan+month_Feb+month_Mar+month_Apr+month_May+month_Jun+month_Jul+month_Aug+month_Sep+month_Oct+month_Nov',data = airline1).fit()\n"
   ]
  },
  {
   "cell_type": "code",
   "execution_count": 122,
   "id": "7562509f",
   "metadata": {},
   "outputs": [
    {
     "data": {
      "text/plain": [
       "0     5.636031\n",
       "1     5.646556\n",
       "2     5.789735\n",
       "3     5.756882\n",
       "4     5.750359\n",
       "5     5.874202\n",
       "6     5.980456\n",
       "7     5.978339\n",
       "8     5.868100\n",
       "9     5.737989\n",
       "10    5.607538\n",
       "11    5.744085\n",
       "dtype: float64"
      ]
     },
     "execution_count": 122,
     "metadata": {},
     "output_type": "execute_result"
    }
   ],
   "source": [
    "#this give us log_passengers \n",
    "pred_new  = pd.Series(final_model.predict(predict_data))\n",
    "pred_new"
   ]
  },
  {
   "cell_type": "code",
   "execution_count": 123,
   "id": "01336de1",
   "metadata": {},
   "outputs": [],
   "source": [
    "#Get number of passengers\n",
    "import math\n",
    "passengers = []\n",
    "for i in range(0,12):\n",
    "  passengers.append(round(math.exp(pred_new[i]),0))"
   ]
  },
  {
   "cell_type": "code",
   "execution_count": 124,
   "id": "45c5514f",
   "metadata": {},
   "outputs": [],
   "source": [
    "predict_data[\"Passengers\"] = passengers"
   ]
  },
  {
   "cell_type": "code",
   "execution_count": 125,
   "id": "81269983",
   "metadata": {},
   "outputs": [],
   "source": [
    "predict_data[\"forecasted_log_passengers\"] = pd.Series(pred_new)"
   ]
  },
  {
   "cell_type": "code",
   "execution_count": 126,
   "id": "25ee7da6",
   "metadata": {},
   "outputs": [
    {
     "data": {
      "text/html": [
       "<div>\n",
       "<style scoped>\n",
       "    .dataframe tbody tr th:only-of-type {\n",
       "        vertical-align: middle;\n",
       "    }\n",
       "\n",
       "    .dataframe tbody tr th {\n",
       "        vertical-align: top;\n",
       "    }\n",
       "\n",
       "    .dataframe thead th {\n",
       "        text-align: right;\n",
       "    }\n",
       "</style>\n",
       "<table border=\"1\" class=\"dataframe\">\n",
       "  <thead>\n",
       "    <tr style=\"text-align: right;\">\n",
       "      <th></th>\n",
       "      <th>Unnamed: 0</th>\n",
       "      <th>Month</th>\n",
       "      <th>Passengers</th>\n",
       "      <th>year</th>\n",
       "      <th>month_Apr</th>\n",
       "      <th>month_Aug</th>\n",
       "      <th>month_Dec</th>\n",
       "      <th>month_Feb</th>\n",
       "      <th>month_Jan</th>\n",
       "      <th>month_Jul</th>\n",
       "      <th>month_Jun</th>\n",
       "      <th>month_Mar</th>\n",
       "      <th>month_May</th>\n",
       "      <th>month_Nov</th>\n",
       "      <th>month_Oct</th>\n",
       "      <th>month_Sep</th>\n",
       "      <th>log_passengers</th>\n",
       "      <th>t</th>\n",
       "      <th>t_sqr</th>\n",
       "      <th>forecasted_log_passengers</th>\n",
       "    </tr>\n",
       "  </thead>\n",
       "  <tbody>\n",
       "    <tr>\n",
       "      <th>0</th>\n",
       "      <td>84</td>\n",
       "      <td>2003-01-01</td>\n",
       "      <td>280.0</td>\n",
       "      <td>2003</td>\n",
       "      <td>0</td>\n",
       "      <td>0</td>\n",
       "      <td>0</td>\n",
       "      <td>0</td>\n",
       "      <td>1</td>\n",
       "      <td>0</td>\n",
       "      <td>0</td>\n",
       "      <td>0</td>\n",
       "      <td>0</td>\n",
       "      <td>0</td>\n",
       "      <td>0</td>\n",
       "      <td>0</td>\n",
       "      <td>5.648974</td>\n",
       "      <td>85</td>\n",
       "      <td>7225</td>\n",
       "      <td>5.636031</td>\n",
       "    </tr>\n",
       "    <tr>\n",
       "      <th>1</th>\n",
       "      <td>85</td>\n",
       "      <td>2003-01-02</td>\n",
       "      <td>283.0</td>\n",
       "      <td>2003</td>\n",
       "      <td>0</td>\n",
       "      <td>0</td>\n",
       "      <td>0</td>\n",
       "      <td>1</td>\n",
       "      <td>0</td>\n",
       "      <td>0</td>\n",
       "      <td>0</td>\n",
       "      <td>0</td>\n",
       "      <td>0</td>\n",
       "      <td>0</td>\n",
       "      <td>0</td>\n",
       "      <td>0</td>\n",
       "      <td>5.624018</td>\n",
       "      <td>86</td>\n",
       "      <td>7396</td>\n",
       "      <td>5.646556</td>\n",
       "    </tr>\n",
       "    <tr>\n",
       "      <th>2</th>\n",
       "      <td>86</td>\n",
       "      <td>2003-01-03</td>\n",
       "      <td>327.0</td>\n",
       "      <td>2003</td>\n",
       "      <td>0</td>\n",
       "      <td>0</td>\n",
       "      <td>0</td>\n",
       "      <td>0</td>\n",
       "      <td>0</td>\n",
       "      <td>0</td>\n",
       "      <td>0</td>\n",
       "      <td>1</td>\n",
       "      <td>0</td>\n",
       "      <td>0</td>\n",
       "      <td>0</td>\n",
       "      <td>0</td>\n",
       "      <td>5.758902</td>\n",
       "      <td>87</td>\n",
       "      <td>7569</td>\n",
       "      <td>5.789735</td>\n",
       "    </tr>\n",
       "    <tr>\n",
       "      <th>3</th>\n",
       "      <td>87</td>\n",
       "      <td>2003-01-04</td>\n",
       "      <td>316.0</td>\n",
       "      <td>2003</td>\n",
       "      <td>1</td>\n",
       "      <td>0</td>\n",
       "      <td>0</td>\n",
       "      <td>0</td>\n",
       "      <td>0</td>\n",
       "      <td>0</td>\n",
       "      <td>0</td>\n",
       "      <td>0</td>\n",
       "      <td>0</td>\n",
       "      <td>0</td>\n",
       "      <td>0</td>\n",
       "      <td>0</td>\n",
       "      <td>5.746203</td>\n",
       "      <td>88</td>\n",
       "      <td>7744</td>\n",
       "      <td>5.756882</td>\n",
       "    </tr>\n",
       "    <tr>\n",
       "      <th>4</th>\n",
       "      <td>88</td>\n",
       "      <td>2003-01-05</td>\n",
       "      <td>314.0</td>\n",
       "      <td>2003</td>\n",
       "      <td>0</td>\n",
       "      <td>0</td>\n",
       "      <td>0</td>\n",
       "      <td>0</td>\n",
       "      <td>0</td>\n",
       "      <td>0</td>\n",
       "      <td>0</td>\n",
       "      <td>0</td>\n",
       "      <td>1</td>\n",
       "      <td>0</td>\n",
       "      <td>0</td>\n",
       "      <td>0</td>\n",
       "      <td>5.762051</td>\n",
       "      <td>89</td>\n",
       "      <td>7921</td>\n",
       "      <td>5.750359</td>\n",
       "    </tr>\n",
       "  </tbody>\n",
       "</table>\n",
       "</div>"
      ],
      "text/plain": [
       "   Unnamed: 0      Month  Passengers  year  month_Apr  month_Aug  month_Dec  \\\n",
       "0          84 2003-01-01       280.0  2003          0          0          0   \n",
       "1          85 2003-01-02       283.0  2003          0          0          0   \n",
       "2          86 2003-01-03       327.0  2003          0          0          0   \n",
       "3          87 2003-01-04       316.0  2003          1          0          0   \n",
       "4          88 2003-01-05       314.0  2003          0          0          0   \n",
       "\n",
       "   month_Feb  month_Jan  month_Jul  month_Jun  month_Mar  month_May  \\\n",
       "0          0          1          0          0          0          0   \n",
       "1          1          0          0          0          0          0   \n",
       "2          0          0          0          0          1          0   \n",
       "3          0          0          0          0          0          0   \n",
       "4          0          0          0          0          0          1   \n",
       "\n",
       "   month_Nov  month_Oct  month_Sep  log_passengers   t  t_sqr  \\\n",
       "0          0          0          0        5.648974  85   7225   \n",
       "1          0          0          0        5.624018  86   7396   \n",
       "2          0          0          0        5.758902  87   7569   \n",
       "3          0          0          0        5.746203  88   7744   \n",
       "4          0          0          0        5.762051  89   7921   \n",
       "\n",
       "   forecasted_log_passengers  \n",
       "0                   5.636031  \n",
       "1                   5.646556  \n",
       "2                   5.789735  \n",
       "3                   5.756882  \n",
       "4                   5.750359  "
      ]
     },
     "execution_count": 126,
     "metadata": {},
     "output_type": "execute_result"
    }
   ],
   "source": [
    "predict_data.head()"
   ]
  },
  {
   "cell_type": "code",
   "execution_count": 127,
   "id": "a1656073",
   "metadata": {},
   "outputs": [
    {
     "data": {
      "text/html": [
       "<div>\n",
       "<style scoped>\n",
       "    .dataframe tbody tr th:only-of-type {\n",
       "        vertical-align: middle;\n",
       "    }\n",
       "\n",
       "    .dataframe tbody tr th {\n",
       "        vertical-align: top;\n",
       "    }\n",
       "\n",
       "    .dataframe thead th {\n",
       "        text-align: right;\n",
       "    }\n",
       "</style>\n",
       "<table border=\"1\" class=\"dataframe\">\n",
       "  <thead>\n",
       "    <tr style=\"text-align: right;\">\n",
       "      <th></th>\n",
       "      <th>Unnamed: 0</th>\n",
       "      <th>Month</th>\n",
       "      <th>Passengers</th>\n",
       "      <th>year</th>\n",
       "      <th>month_Apr</th>\n",
       "      <th>month_Aug</th>\n",
       "      <th>month_Dec</th>\n",
       "      <th>month_Feb</th>\n",
       "      <th>month_Jan</th>\n",
       "      <th>month_Jul</th>\n",
       "      <th>month_Jun</th>\n",
       "      <th>month_Mar</th>\n",
       "      <th>month_May</th>\n",
       "      <th>month_Nov</th>\n",
       "      <th>month_Oct</th>\n",
       "      <th>month_Sep</th>\n",
       "      <th>log_passengers</th>\n",
       "      <th>t</th>\n",
       "      <th>t_sqr</th>\n",
       "      <th>forecasted_log_passengers</th>\n",
       "    </tr>\n",
       "  </thead>\n",
       "  <tbody>\n",
       "    <tr>\n",
       "      <th>7</th>\n",
       "      <td>91</td>\n",
       "      <td>2003-01-08</td>\n",
       "      <td>395.0</td>\n",
       "      <td>2003</td>\n",
       "      <td>0</td>\n",
       "      <td>1</td>\n",
       "      <td>0</td>\n",
       "      <td>0</td>\n",
       "      <td>0</td>\n",
       "      <td>0</td>\n",
       "      <td>0</td>\n",
       "      <td>0</td>\n",
       "      <td>0</td>\n",
       "      <td>0</td>\n",
       "      <td>0</td>\n",
       "      <td>0</td>\n",
       "      <td>6.003887</td>\n",
       "      <td>92</td>\n",
       "      <td>8464</td>\n",
       "      <td>5.978339</td>\n",
       "    </tr>\n",
       "    <tr>\n",
       "      <th>8</th>\n",
       "      <td>92</td>\n",
       "      <td>2003-01-09</td>\n",
       "      <td>354.0</td>\n",
       "      <td>2003</td>\n",
       "      <td>0</td>\n",
       "      <td>0</td>\n",
       "      <td>0</td>\n",
       "      <td>0</td>\n",
       "      <td>0</td>\n",
       "      <td>0</td>\n",
       "      <td>0</td>\n",
       "      <td>0</td>\n",
       "      <td>0</td>\n",
       "      <td>0</td>\n",
       "      <td>0</td>\n",
       "      <td>1</td>\n",
       "      <td>5.872118</td>\n",
       "      <td>93</td>\n",
       "      <td>8649</td>\n",
       "      <td>5.868100</td>\n",
       "    </tr>\n",
       "    <tr>\n",
       "      <th>9</th>\n",
       "      <td>93</td>\n",
       "      <td>2003-01-10</td>\n",
       "      <td>310.0</td>\n",
       "      <td>2003</td>\n",
       "      <td>0</td>\n",
       "      <td>0</td>\n",
       "      <td>0</td>\n",
       "      <td>0</td>\n",
       "      <td>0</td>\n",
       "      <td>0</td>\n",
       "      <td>0</td>\n",
       "      <td>0</td>\n",
       "      <td>0</td>\n",
       "      <td>0</td>\n",
       "      <td>1</td>\n",
       "      <td>0</td>\n",
       "      <td>5.723585</td>\n",
       "      <td>94</td>\n",
       "      <td>8836</td>\n",
       "      <td>5.737989</td>\n",
       "    </tr>\n",
       "    <tr>\n",
       "      <th>10</th>\n",
       "      <td>94</td>\n",
       "      <td>2003-01-11</td>\n",
       "      <td>272.0</td>\n",
       "      <td>2003</td>\n",
       "      <td>0</td>\n",
       "      <td>0</td>\n",
       "      <td>0</td>\n",
       "      <td>0</td>\n",
       "      <td>0</td>\n",
       "      <td>0</td>\n",
       "      <td>0</td>\n",
       "      <td>0</td>\n",
       "      <td>0</td>\n",
       "      <td>1</td>\n",
       "      <td>0</td>\n",
       "      <td>0</td>\n",
       "      <td>5.602119</td>\n",
       "      <td>95</td>\n",
       "      <td>9025</td>\n",
       "      <td>5.607538</td>\n",
       "    </tr>\n",
       "    <tr>\n",
       "      <th>11</th>\n",
       "      <td>95</td>\n",
       "      <td>2003-01-12</td>\n",
       "      <td>312.0</td>\n",
       "      <td>2003</td>\n",
       "      <td>0</td>\n",
       "      <td>0</td>\n",
       "      <td>1</td>\n",
       "      <td>0</td>\n",
       "      <td>0</td>\n",
       "      <td>0</td>\n",
       "      <td>0</td>\n",
       "      <td>0</td>\n",
       "      <td>0</td>\n",
       "      <td>0</td>\n",
       "      <td>0</td>\n",
       "      <td>0</td>\n",
       "      <td>5.723585</td>\n",
       "      <td>96</td>\n",
       "      <td>9216</td>\n",
       "      <td>5.744085</td>\n",
       "    </tr>\n",
       "  </tbody>\n",
       "</table>\n",
       "</div>"
      ],
      "text/plain": [
       "    Unnamed: 0      Month  Passengers  year  month_Apr  month_Aug  month_Dec  \\\n",
       "7           91 2003-01-08       395.0  2003          0          1          0   \n",
       "8           92 2003-01-09       354.0  2003          0          0          0   \n",
       "9           93 2003-01-10       310.0  2003          0          0          0   \n",
       "10          94 2003-01-11       272.0  2003          0          0          0   \n",
       "11          95 2003-01-12       312.0  2003          0          0          1   \n",
       "\n",
       "    month_Feb  month_Jan  month_Jul  month_Jun  month_Mar  month_May  \\\n",
       "7           0          0          0          0          0          0   \n",
       "8           0          0          0          0          0          0   \n",
       "9           0          0          0          0          0          0   \n",
       "10          0          0          0          0          0          0   \n",
       "11          0          0          0          0          0          0   \n",
       "\n",
       "    month_Nov  month_Oct  month_Sep  log_passengers   t  t_sqr  \\\n",
       "7           0          0          0        6.003887  92   8464   \n",
       "8           0          0          1        5.872118  93   8649   \n",
       "9           0          1          0        5.723585  94   8836   \n",
       "10          1          0          0        5.602119  95   9025   \n",
       "11          0          0          0        5.723585  96   9216   \n",
       "\n",
       "    forecasted_log_passengers  \n",
       "7                    5.978339  \n",
       "8                    5.868100  \n",
       "9                    5.737989  \n",
       "10                   5.607538  \n",
       "11                   5.744085  "
      ]
     },
     "execution_count": 127,
     "metadata": {},
     "output_type": "execute_result"
    }
   ],
   "source": [
    "predict_data.tail()"
   ]
  },
  {
   "cell_type": "code",
   "execution_count": 128,
   "id": "6217dbb7",
   "metadata": {},
   "outputs": [
    {
     "data": {
      "text/plain": [
       "<Axes: >"
      ]
     },
     "execution_count": 128,
     "metadata": {},
     "output_type": "execute_result"
    },
    {
     "data": {
      "image/png": "[encoded data removed]",
      "text/plain": [
       "<Figure size 1200x800 with 1 Axes>"
      ]
     },
     "metadata": {},
     "output_type": "display_data"
    }
   ],
   "source": [
    "airline1['forecast_passengers']=np.exp(pd.Series(final_model.predict(airline1)))\n",
    "airline1[['forecast_passengers','Passengers']].plot(figsize=(12,8))"
   ]
  },
  {
   "cell_type": "markdown",
   "id": "e1f12d6c",
   "metadata": {},
   "source": [
    "Note: As we observed in various plots that Aug & Sept have fairly high passengers and we can observe a similar trend in predict data as well for 2003 year."
   ]
  },
  {
   "cell_type": "code",
   "execution_count": null,
   "id": "b629d378",
   "metadata": {},
   "outputs": [],
   "source": []
  }
 ],
 "metadata": {
  "kernelspec": {
   "display_name": "Python 3 (ipykernel)",
   "language": "python",
   "name": "python3"
  },
  "language_info": {
   "codemirror_mode": {
    "name": "ipython",
    "version": 3
   },
   "file_extension": ".py",
   "mimetype": "text/x-python",
   "name": "python",
   "nbconvert_exporter": "python",
   "pygments_lexer": "ipython3",
   "version": "3.10.9"
  }
 },
 "nbformat": 4,
 "nbformat_minor": 5
}
